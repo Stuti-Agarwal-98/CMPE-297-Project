{
 "cells": [
  {
   "cell_type": "code",
   "execution_count": null,
   "id": "afbe01ea",
   "metadata": {},
   "outputs": [],
   "source": [
    "# Install tfx and kfp Python packages.\n",
    "import sys\n",
    "!{sys.executable} -m pip install --user --upgrade -q tfx\n",
    "!{sys.executable} -m pip install --user --upgrade -q kfp\n",
    "# Download skaffold and set it executable.\n",
    "!curl -Lo skaffold https://storage.googleapis.com/skaffold/releases/latest/skaffold-linux-amd64 && chmod +x skaffold && mv skaffold /home/jupyter/.local/bin/"
   ]
  },
  {
   "cell_type": "code",
   "execution_count": 177,
   "id": "6299380c",
   "metadata": {},
   "outputs": [
    {
     "name": "stdout",
     "output_type": "stream",
     "text": [
      "env: PATH=/usr/local/cuda/bin:/opt/conda/bin:/opt/conda/condabin:/usr/local/bin:/usr/bin:/bin:/usr/local/games:/usr/games:/home/jupyter/.local/bin:/home/jupyter/.local/bin:/home/jupyter/.local/bin:/home/jupyter/.local/bin:/home/jupyter/.local/bin:/home/jupyter/.local/bin:/home/jupyter/.local/bin:/home/jupyter/.local/bin\n"
     ]
    }
   ],
   "source": [
    "# Set `PATH` to include user python binary directory and a directory containing `skaffold`.\n",
    "PATH=%env PATH\n",
    "%env PATH={PATH}:/home/jupyter/.local/bin"
   ]
  },
  {
   "cell_type": "code",
   "execution_count": 178,
   "id": "b4c0eae9",
   "metadata": {},
   "outputs": [
    {
     "name": "stdout",
     "output_type": "stream",
     "text": [
      "TFX versions: 0.26.3\n"
     ]
    }
   ],
   "source": [
    "!python3 -c \"import tfx; print('TFX versions: {}'.format(tfx.__version__))\""
   ]
  },
  {
   "cell_type": "code",
   "execution_count": 180,
   "id": "ade88b34",
   "metadata": {},
   "outputs": [
    {
     "name": "stdout",
     "output_type": "stream",
     "text": [
      "env: GOOGLE_CLOUD_PROJECT=project297-311705\n",
      "GCP project ID:project297-311705\n"
     ]
    }
   ],
   "source": [
    "# Read GCP project id from env.\n",
    "shell_output=!gcloud config list --format 'value(core.project)' 2>/dev/null\n",
    "GOOGLE_CLOUD_PROJECT=shell_output[0]\n",
    "%env GOOGLE_CLOUD_PROJECT={GOOGLE_CLOUD_PROJECT}\n",
    "print(\"GCP project ID:\" + GOOGLE_CLOUD_PROJECT)"
   ]
  },
  {
   "cell_type": "code",
   "execution_count": 189,
   "id": "c4c8d31e",
   "metadata": {},
   "outputs": [],
   "source": [
    "# This refers to the KFP cluster endpoint\n",
    "ENDPOINT='160bc47ab60046e6-dot-us-central1.pipelines.googleusercontent.com' # Enter your ENDPOINT here.\n",
    "if not ENDPOINT:\n",
    "    from absl import logging\n",
    "    logging.error('Set your ENDPOINT in this cell.')"
   ]
  },
  {
   "cell_type": "code",
   "execution_count": 205,
   "id": "49ecefaf",
   "metadata": {},
   "outputs": [],
   "source": [
    "PIPELINE_NAME = \"plant-disease\"\n",
    "# Docker image name for the pipeline image.\n",
    "CUSTOM_TFX_IMAGE='gcr.io/' + GOOGLE_CLOUD_PROJECT + '/plant-disease'"
   ]
  },
  {
   "cell_type": "code",
   "execution_count": 194,
   "id": "ea6a6bf6",
   "metadata": {},
   "outputs": [
    {
     "name": "stdout",
     "output_type": "stream",
     "text": [
      "[Errno 2] No such file or directory: '/home/jupyter/plant-disease/plant-disease'\n",
      "/home/jupyter/plant-disease\n"
     ]
    }
   ],
   "source": [
    "import os\n",
    "#set base path and working directory\n",
    "BASE_PATH = str(os.path.join(os.getcwd(), 'plant-disease'))\n",
    "%cd {BASE_PATH}"
   ]
  },
  {
   "cell_type": "code",
   "execution_count": 209,
   "id": "c4182292",
   "metadata": {},
   "outputs": [
    {
     "name": "stdout",
     "output_type": "stream",
     "text": [
      "2021-05-15 06:17:11.520145: W tensorflow/stream_executor/platform/default/dso_loader.cc:59] Could not load dynamic library 'libcudart.so.10.1'; dlerror: libcudart.so.10.1: cannot open shared object file: No such file or directory; LD_LIBRARY_PATH: /usr/local/cuda/lib64:/usr/local/nccl2/lib:/usr/local/cuda/extras/CUPTI/lib64\n",
      "2021-05-15 06:17:11.520202: I tensorflow/stream_executor/cuda/cudart_stub.cc:29] Ignore above cudart dlerror if you do not have a GPU set up on your machine.\n",
      "CLI\n",
      "Creating pipeline\n",
      "Detected Kubeflow.\n",
      "Use --engine flag if you intend to use a different orchestrator.\n",
      "Reading build spec from build.yaml\n",
      "Target image gcr.io/project297-311705/plant-disease is not used. If the build spec is provided, update the target image in the build spec file build.yaml.\n",
      "[Skaffold] Generating tags...\n",
      "[Skaffold]  - gcr.io/project297-311705/plant-disease -> gcr.io/project297-311705/plant-disease:latest\n",
      "[Skaffold] Checking cache...\n",
      "[Skaffold]  - gcr.io/project297-311705/plant-disease: Not found. Building\n",
      "[Skaffold] Starting build...\n",
      "[Skaffold] Building [gcr.io/project297-311705/plant-disease]...\n",
      "[Skaffold] Sending build context to Docker daemon    216MB\n",
      "[Skaffold] Step 1/6 : FROM tensorflow/tfx:0.26.3\n",
      "[Skaffold]  ---> fdc47606f263\n",
      "[Skaffold] Step 2/6 : WORKDIR /pipeline\n",
      "[Skaffold]  ---> Using cache\n",
      "[Skaffold]  ---> 372500b934b1\n",
      "[Skaffold] Step 3/6 : RUN pip install tensorflow_ranking\n",
      "[Skaffold]  ---> Using cache\n",
      "[Skaffold]  ---> 1dc12cff233b\n",
      "[Skaffold] Step 4/6 : RUN pip install tensorflow_text\n",
      "[Skaffold]  ---> Using cache\n",
      "[Skaffold]  ---> fe315f21f30e\n",
      "[Skaffold] Step 5/6 : COPY ./ ./\n",
      "[Skaffold]  ---> 0c99df064993\n",
      "[Skaffold] Step 6/6 : ENV PYTHONPATH=\"/pipeline:${PYTHONPATH}\"\n",
      "[Skaffold]  ---> Running in 13b3eeb8c1f1\n",
      "[Skaffold] Removing intermediate container 13b3eeb8c1f1\n",
      "[Skaffold]  ---> 0becfe17ff07\n",
      "[Skaffold] Successfully built 0becfe17ff07\n",
      "[Skaffold] Successfully tagged gcr.io/project297-311705/plant-disease:latest\n",
      "[Skaffold] The push refers to repository [gcr.io/project297-311705/plant-disease]\n",
      "[Skaffold] 74bbb0ec8c88: Preparing\n",
      "[Skaffold] fcf616de5145: Preparing\n",
      "[Skaffold] 4dfa2752bf64: Preparing\n",
      "[Skaffold] d336e513b02e: Preparing\n",
      "[Skaffold] 16ff61e706a2: Preparing\n",
      "[Skaffold] 3c4fbf463204: Preparing\n",
      "[Skaffold] 8a505753fbdf: Preparing\n",
      "[Skaffold] 30ed15d19d7b: Preparing\n",
      "[Skaffold] 4b867b920cc6: Preparing\n",
      "[Skaffold] 4058ae03fa32: Preparing\n",
      "[Skaffold] e3437c61d457: Preparing\n",
      "[Skaffold] 84ff92691f90: Preparing\n",
      "[Skaffold] 54b00d861a7a: Preparing\n",
      "[Skaffold] c547358928ab: Preparing\n",
      "[Skaffold] 84ff92691f90: Preparing\n",
      "[Skaffold] c4e66be694ce: Preparing\n",
      "[Skaffold] 47cc65c6dd57: Preparing\n",
      "[Skaffold] 3c4fbf463204: Waiting\n",
      "[Skaffold] 8a505753fbdf: Waiting\n",
      "[Skaffold] 30ed15d19d7b: Waiting\n",
      "[Skaffold] 4b867b920cc6: Waiting\n",
      "[Skaffold] 4058ae03fa32: Waiting\n",
      "[Skaffold] e3437c61d457: Waiting\n",
      "[Skaffold] 84ff92691f90: Waiting\n",
      "[Skaffold] c547358928ab: Waiting\n",
      "[Skaffold] 54b00d861a7a: Waiting\n",
      "[Skaffold] c4e66be694ce: Waiting\n",
      "[Skaffold] 47cc65c6dd57: Waiting\n",
      "[Skaffold] d336e513b02e: Layer already exists\n",
      "[Skaffold] fcf616de5145: Layer already exists\n",
      "[Skaffold] 16ff61e706a2: Layer already exists\n",
      "[Skaffold] 4dfa2752bf64: Layer already exists\n",
      "[Skaffold] 3c4fbf463204: Layer already exists\n",
      "[Skaffold] 8a505753fbdf: Layer already exists\n",
      "[Skaffold] 30ed15d19d7b: Layer already exists\n",
      "[Skaffold] 4b867b920cc6: Layer already exists\n",
      "[Skaffold] 4058ae03fa32: Layer already exists\n",
      "[Skaffold] 84ff92691f90: Layer already exists\n",
      "[Skaffold] 54b00d861a7a: Layer already exists\n",
      "[Skaffold] e3437c61d457: Layer already exists\n",
      "[Skaffold] c547358928ab: Layer already exists\n",
      "[Skaffold] 47cc65c6dd57: Layer already exists\n",
      "[Skaffold] c4e66be694ce: Layer already exists\n",
      "[Skaffold] 74bbb0ec8c88: Pushed\n",
      "[Skaffold] latest: digest: sha256:6a618392e77cb8e6a524553d8f986721ab9143c929068533a208a77041edfb2c size: 3910\n",
      "[Skaffold] \n",
      "New container image is built. Target image is available in the build spec file.\n",
      "2021-05-15 06:17:46.905938: W tensorflow/stream_executor/platform/default/dso_loader.cc:59] Could not load dynamic library 'libcudart.so.10.1'; dlerror: libcudart.so.10.1: cannot open shared object file: No such file or directory; LD_LIBRARY_PATH: /usr/local/cuda/lib64:/usr/local/nccl2/lib:/usr/local/cuda/extras/CUPTI/lib64\n",
      "2021-05-15 06:17:46.905992: I tensorflow/stream_executor/cuda/cudart_stub.cc:29] Ignore above cudart dlerror if you do not have a GPU set up on your machine.\n",
      "WARNING:absl:RuntimeParameter is only supported on Cloud-based DAG runner currently.\n",
      "gs://project297-311705-kubeflowpipelines-default/advert_pred_pipeline_output/plant-disease_pipeline_\n",
      "project297-311705-kubeflowpipelines-default\n",
      "INFO:absl:Excluding no splits because exclude_splits is not set.\n",
      "INFO:absl:Excluding no splits because exclude_splits is not set.\n",
      "INFO:absl:Excluding no splits because exclude_splits is not set.\n",
      "INFO:absl:Adding upstream dependencies for component importexamplegen\n",
      "INFO:absl:Adding upstream dependencies for component statisticsgen\n",
      "INFO:absl:   ->  Component: importexamplegen\n",
      "INFO:absl:Adding upstream dependencies for component schemagen\n",
      "INFO:absl:   ->  Component: statisticsgen\n",
      "INFO:absl:Adding upstream dependencies for component examplevalidator\n",
      "INFO:absl:   ->  Component: statisticsgen\n",
      "INFO:absl:   ->  Component: schemagen\n",
      "INFO:absl:Adding upstream dependencies for component trainer\n",
      "INFO:absl:   ->  Component: importexamplegen\n",
      "INFO:absl:   ->  Component: schemagen\n",
      "INFO:absl:Adding upstream dependencies for component pusher\n",
      "INFO:absl:   ->  Component: trainer\n",
      "Pipeline compiled successfully.\n",
      "Pipeline package path: /home/jupyter/plant-disease/plant-disease_pipeline_.tar.gz\n",
      "Pipeline \"plant-disease_pipeline_\" already exists.\n"
     ]
    }
   ],
   "source": [
    "!tfx pipeline create  \\\n",
    "--pipeline-path=kubeflow_dag_runner.py \\\n",
    "--endpoint={ENDPOINT} \\\n",
    "--build-target-image={CUSTOM_TFX_IMAGE}"
   ]
  },
  {
   "cell_type": "code",
   "execution_count": 210,
   "id": "ddef2f16",
   "metadata": {},
   "outputs": [
    {
     "name": "stdout",
     "output_type": "stream",
     "text": [
      "2021-05-15 06:18:32.965365: W tensorflow/stream_executor/platform/default/dso_loader.cc:59] Could not load dynamic library 'libcudart.so.10.1'; dlerror: libcudart.so.10.1: cannot open shared object file: No such file or directory; LD_LIBRARY_PATH: /usr/local/cuda/lib64:/usr/local/nccl2/lib:/usr/local/cuda/extras/CUPTI/lib64\n",
      "2021-05-15 06:18:32.965417: I tensorflow/stream_executor/cuda/cudart_stub.cc:29] Ignore above cudart dlerror if you do not have a GPU set up on your machine.\n",
      "CLI\n",
      "Creating a run for pipeline: plant-disease\n",
      "Detected Kubeflow.\n",
      "Use --engine flag if you intend to use a different orchestrator.\n",
      "Run created for pipeline: plant-disease\n",
      "+------------------------+--------------------------------------+----------+---------------------------+-----------------------------------------------------------------------------------------------------------------------------+\n",
      "| pipeline_name          | run_id                               | status   | created_at                | link                                                                                                                        |\n",
      "+========================+======================================+==========+===========================+=============================================================================================================================+\n",
      "| plant-disease | 192aea4c-c4fc-4558-acec-a838d1ad58db |          | 2021-05-15T06:18:36+00:00 | http://160bc47ab60046e6-dot-us-central1.pipelines.googleusercontent.com/#/runs/details/192aea4c-c4fc-4558-acec-a838d1ad58db |\n",
      "+------------------------+--------------------------------------+----------+---------------------------+-----------------------------------------------------------------------------------------------------------------------------+\n"
     ]
    }
   ],
   "source": [
    "!tfx run create --pipeline-name={PIPELINE_NAME} --endpoint={ENDPOINT}\n"
   ]
  },
  {
   "cell_type": "code",
   "execution_count": null,
   "id": "bac39a3b",
   "metadata": {},
   "outputs": [],
   "source": []
  },
  {
   "cell_type": "code",
   "execution_count": null,
   "id": "04d0425c",
   "metadata": {},
   "outputs": [],
   "source": []
  },
  {
   "cell_type": "code",
   "execution_count": null,
   "id": "07237e94",
   "metadata": {},
   "outputs": [],
   "source": []
  },
  {
   "cell_type": "code",
   "execution_count": null,
   "id": "e53b9f1c",
   "metadata": {},
   "outputs": [],
   "source": []
  },
  {
   "cell_type": "code",
   "execution_count": null,
   "id": "fdee3b90",
   "metadata": {},
   "outputs": [],
   "source": []
  },
  {
   "cell_type": "code",
   "execution_count": null,
   "id": "1e849e40",
   "metadata": {},
   "outputs": [],
   "source": []
  },
  {
   "cell_type": "code",
   "execution_count": null,
   "id": "cabe726b",
   "metadata": {},
   "outputs": [],
   "source": []
  },
  {
   "cell_type": "code",
   "execution_count": null,
   "id": "93cf2830",
   "metadata": {},
   "outputs": [],
   "source": []
  },
  {
   "cell_type": "code",
   "execution_count": null,
   "id": "4656326e",
   "metadata": {},
   "outputs": [],
   "source": []
  },
  {
   "cell_type": "code",
   "execution_count": null,
   "id": "f319c1c5",
   "metadata": {},
   "outputs": [],
   "source": []
  },
  {
   "cell_type": "code",
   "execution_count": null,
   "id": "8a5f16e3",
   "metadata": {},
   "outputs": [],
   "source": []
  },
  {
   "cell_type": "code",
   "execution_count": null,
   "id": "754be70d",
   "metadata": {},
   "outputs": [],
   "source": []
  },
  {
   "cell_type": "code",
   "execution_count": null,
   "id": "29728117",
   "metadata": {},
   "outputs": [],
   "source": []
  },
  {
   "cell_type": "code",
   "execution_count": null,
   "id": "c89bfd5e",
   "metadata": {},
   "outputs": [],
   "source": []
  }
 ],
 "metadata": {
  "environment": {
   "name": "tf2-gpu.2-3.m65",
   "type": "gcloud",
   "uri": "gcr.io/deeplearning-platform-release/tf2-gpu.2-3:m65"
  },
  "kernelspec": {
   "display_name": "Python 3",
   "language": "python",
   "name": "python3"
  },
  "language_info": {
   "codemirror_mode": {
    "name": "ipython",
    "version": 3
   },
   "file_extension": ".py",
   "mimetype": "text/x-python",
   "name": "python",
   "nbconvert_exporter": "python",
   "pygments_lexer": "ipython3",
   "version": "3.7.10"
  }
 },
 "nbformat": 4,
 "nbformat_minor": 5
}
