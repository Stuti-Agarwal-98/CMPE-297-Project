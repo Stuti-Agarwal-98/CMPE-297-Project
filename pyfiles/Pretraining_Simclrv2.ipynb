{
  "nbformat": 4,
  "nbformat_minor": 0,
  "metadata": {
    "colab": {
      "name": "Pretraining_Simclrv2.ipynb",
      "provenance": []
    },
    "kernelspec": {
      "name": "python3",
      "display_name": "Python 3"
    },
    "language_info": {
      "name": "python"
    },
    "accelerator": "GPU",
    "widgets": {
      "application/vnd.jupyter.widget-state+json": {
        "3c70957cd769420780afe308ba59f864": {
          "model_module": "@jupyter-widgets/controls",
          "model_name": "HBoxModel",
          "model_module_version": "1.5.0",
          "state": {
            "_view_name": "HBoxView",
            "_dom_classes": [],
            "_model_name": "HBoxModel",
            "_view_module": "@jupyter-widgets/controls",
            "_model_module_version": "1.5.0",
            "_view_count": null,
            "_view_module_version": "1.5.0",
            "box_style": "",
            "layout": "IPY_MODEL_98301a8d5a4d4fa6b554057fd4fb07e7",
            "_model_module": "@jupyter-widgets/controls",
            "children": [
              "IPY_MODEL_f85da6de0909475db0fac1e155cab1b8",
              "IPY_MODEL_e3b284ba8ba2426b96d3e4079fe96c1a",
              "IPY_MODEL_1ea5297e1b0d40b5a26c438bacba53d5"
            ]
          }
        },
        "98301a8d5a4d4fa6b554057fd4fb07e7": {
          "model_module": "@jupyter-widgets/base",
          "model_name": "LayoutModel",
          "model_module_version": "1.2.0",
          "state": {
            "_view_name": "LayoutView",
            "grid_template_rows": null,
            "right": null,
            "justify_content": null,
            "_view_module": "@jupyter-widgets/base",
            "overflow": null,
            "_model_module_version": "1.2.0",
            "_view_count": null,
            "flex_flow": null,
            "width": null,
            "min_width": null,
            "border": null,
            "align_items": null,
            "bottom": null,
            "_model_module": "@jupyter-widgets/base",
            "top": null,
            "grid_column": null,
            "overflow_y": null,
            "overflow_x": null,
            "grid_auto_flow": null,
            "grid_area": null,
            "grid_template_columns": null,
            "flex": null,
            "_model_name": "LayoutModel",
            "justify_items": null,
            "grid_row": null,
            "max_height": null,
            "align_content": null,
            "visibility": null,
            "align_self": null,
            "height": null,
            "min_height": null,
            "padding": null,
            "grid_auto_rows": null,
            "grid_gap": null,
            "max_width": null,
            "order": null,
            "_view_module_version": "1.2.0",
            "grid_template_areas": null,
            "object_position": null,
            "object_fit": null,
            "grid_auto_columns": null,
            "margin": null,
            "display": null,
            "left": null
          }
        },
        "f85da6de0909475db0fac1e155cab1b8": {
          "model_module": "@jupyter-widgets/controls",
          "model_name": "HTMLModel",
          "model_module_version": "1.5.0",
          "state": {
            "_view_name": "HTMLView",
            "style": "IPY_MODEL_f13a99e2469544ca9cc86523868814b4",
            "_dom_classes": [],
            "description": "",
            "_model_name": "HTMLModel",
            "placeholder": "​",
            "_view_module": "@jupyter-widgets/controls",
            "_model_module_version": "1.5.0",
            "value": "Dl Completed...: 100%",
            "_view_count": null,
            "_view_module_version": "1.5.0",
            "description_tooltip": null,
            "_model_module": "@jupyter-widgets/controls",
            "layout": "IPY_MODEL_ff4deffdf3ba4ff58a1be8dbaab042a9"
          }
        },
        "e3b284ba8ba2426b96d3e4079fe96c1a": {
          "model_module": "@jupyter-widgets/controls",
          "model_name": "FloatProgressModel",
          "model_module_version": "1.5.0",
          "state": {
            "_view_name": "ProgressView",
            "style": "IPY_MODEL_e39657dc642141dd98243915a97054ae",
            "_dom_classes": [],
            "description": "",
            "_model_name": "FloatProgressModel",
            "bar_style": "success",
            "max": 1,
            "_view_module": "@jupyter-widgets/controls",
            "_model_module_version": "1.5.0",
            "value": 1,
            "_view_count": null,
            "_view_module_version": "1.5.0",
            "orientation": "horizontal",
            "min": 0,
            "description_tooltip": null,
            "_model_module": "@jupyter-widgets/controls",
            "layout": "IPY_MODEL_aad6ad1bc4024401909ffa260e1512ec"
          }
        },
        "1ea5297e1b0d40b5a26c438bacba53d5": {
          "model_module": "@jupyter-widgets/controls",
          "model_name": "HTMLModel",
          "model_module_version": "1.5.0",
          "state": {
            "_view_name": "HTMLView",
            "style": "IPY_MODEL_acc42cd4c9184789b5e36b7ca72d91fa",
            "_dom_classes": [],
            "description": "",
            "_model_name": "HTMLModel",
            "placeholder": "​",
            "_view_module": "@jupyter-widgets/controls",
            "_model_module_version": "1.5.0",
            "value": " 1/1 [01:25&lt;00:00, 43.41s/ url]",
            "_view_count": null,
            "_view_module_version": "1.5.0",
            "description_tooltip": null,
            "_model_module": "@jupyter-widgets/controls",
            "layout": "IPY_MODEL_9d15ba8128244f61adbd718b96852ec5"
          }
        },
        "f13a99e2469544ca9cc86523868814b4": {
          "model_module": "@jupyter-widgets/controls",
          "model_name": "DescriptionStyleModel",
          "model_module_version": "1.5.0",
          "state": {
            "_view_name": "StyleView",
            "_model_name": "DescriptionStyleModel",
            "description_width": "",
            "_view_module": "@jupyter-widgets/base",
            "_model_module_version": "1.5.0",
            "_view_count": null,
            "_view_module_version": "1.2.0",
            "_model_module": "@jupyter-widgets/controls"
          }
        },
        "ff4deffdf3ba4ff58a1be8dbaab042a9": {
          "model_module": "@jupyter-widgets/base",
          "model_name": "LayoutModel",
          "model_module_version": "1.2.0",
          "state": {
            "_view_name": "LayoutView",
            "grid_template_rows": null,
            "right": null,
            "justify_content": null,
            "_view_module": "@jupyter-widgets/base",
            "overflow": null,
            "_model_module_version": "1.2.0",
            "_view_count": null,
            "flex_flow": null,
            "width": null,
            "min_width": null,
            "border": null,
            "align_items": null,
            "bottom": null,
            "_model_module": "@jupyter-widgets/base",
            "top": null,
            "grid_column": null,
            "overflow_y": null,
            "overflow_x": null,
            "grid_auto_flow": null,
            "grid_area": null,
            "grid_template_columns": null,
            "flex": null,
            "_model_name": "LayoutModel",
            "justify_items": null,
            "grid_row": null,
            "max_height": null,
            "align_content": null,
            "visibility": null,
            "align_self": null,
            "height": null,
            "min_height": null,
            "padding": null,
            "grid_auto_rows": null,
            "grid_gap": null,
            "max_width": null,
            "order": null,
            "_view_module_version": "1.2.0",
            "grid_template_areas": null,
            "object_position": null,
            "object_fit": null,
            "grid_auto_columns": null,
            "margin": null,
            "display": null,
            "left": null
          }
        },
        "e39657dc642141dd98243915a97054ae": {
          "model_module": "@jupyter-widgets/controls",
          "model_name": "ProgressStyleModel",
          "model_module_version": "1.5.0",
          "state": {
            "_view_name": "StyleView",
            "_model_name": "ProgressStyleModel",
            "description_width": "",
            "_view_module": "@jupyter-widgets/base",
            "_model_module_version": "1.5.0",
            "_view_count": null,
            "_view_module_version": "1.2.0",
            "bar_color": null,
            "_model_module": "@jupyter-widgets/controls"
          }
        },
        "aad6ad1bc4024401909ffa260e1512ec": {
          "model_module": "@jupyter-widgets/base",
          "model_name": "LayoutModel",
          "model_module_version": "1.2.0",
          "state": {
            "_view_name": "LayoutView",
            "grid_template_rows": null,
            "right": null,
            "justify_content": null,
            "_view_module": "@jupyter-widgets/base",
            "overflow": null,
            "_model_module_version": "1.2.0",
            "_view_count": null,
            "flex_flow": null,
            "width": "20px",
            "min_width": null,
            "border": null,
            "align_items": null,
            "bottom": null,
            "_model_module": "@jupyter-widgets/base",
            "top": null,
            "grid_column": null,
            "overflow_y": null,
            "overflow_x": null,
            "grid_auto_flow": null,
            "grid_area": null,
            "grid_template_columns": null,
            "flex": null,
            "_model_name": "LayoutModel",
            "justify_items": null,
            "grid_row": null,
            "max_height": null,
            "align_content": null,
            "visibility": null,
            "align_self": null,
            "height": null,
            "min_height": null,
            "padding": null,
            "grid_auto_rows": null,
            "grid_gap": null,
            "max_width": null,
            "order": null,
            "_view_module_version": "1.2.0",
            "grid_template_areas": null,
            "object_position": null,
            "object_fit": null,
            "grid_auto_columns": null,
            "margin": null,
            "display": null,
            "left": null
          }
        },
        "acc42cd4c9184789b5e36b7ca72d91fa": {
          "model_module": "@jupyter-widgets/controls",
          "model_name": "DescriptionStyleModel",
          "model_module_version": "1.5.0",
          "state": {
            "_view_name": "StyleView",
            "_model_name": "DescriptionStyleModel",
            "description_width": "",
            "_view_module": "@jupyter-widgets/base",
            "_model_module_version": "1.5.0",
            "_view_count": null,
            "_view_module_version": "1.2.0",
            "_model_module": "@jupyter-widgets/controls"
          }
        },
        "9d15ba8128244f61adbd718b96852ec5": {
          "model_module": "@jupyter-widgets/base",
          "model_name": "LayoutModel",
          "model_module_version": "1.2.0",
          "state": {
            "_view_name": "LayoutView",
            "grid_template_rows": null,
            "right": null,
            "justify_content": null,
            "_view_module": "@jupyter-widgets/base",
            "overflow": null,
            "_model_module_version": "1.2.0",
            "_view_count": null,
            "flex_flow": null,
            "width": null,
            "min_width": null,
            "border": null,
            "align_items": null,
            "bottom": null,
            "_model_module": "@jupyter-widgets/base",
            "top": null,
            "grid_column": null,
            "overflow_y": null,
            "overflow_x": null,
            "grid_auto_flow": null,
            "grid_area": null,
            "grid_template_columns": null,
            "flex": null,
            "_model_name": "LayoutModel",
            "justify_items": null,
            "grid_row": null,
            "max_height": null,
            "align_content": null,
            "visibility": null,
            "align_self": null,
            "height": null,
            "min_height": null,
            "padding": null,
            "grid_auto_rows": null,
            "grid_gap": null,
            "max_width": null,
            "order": null,
            "_view_module_version": "1.2.0",
            "grid_template_areas": null,
            "object_position": null,
            "object_fit": null,
            "grid_auto_columns": null,
            "margin": null,
            "display": null,
            "left": null
          }
        },
        "49197a8f5e1840179f7beb2f6e752406": {
          "model_module": "@jupyter-widgets/controls",
          "model_name": "HBoxModel",
          "model_module_version": "1.5.0",
          "state": {
            "_view_name": "HBoxView",
            "_dom_classes": [],
            "_model_name": "HBoxModel",
            "_view_module": "@jupyter-widgets/controls",
            "_model_module_version": "1.5.0",
            "_view_count": null,
            "_view_module_version": "1.5.0",
            "box_style": "",
            "layout": "IPY_MODEL_d7ea8c9275564939946e2d9292d1c441",
            "_model_module": "@jupyter-widgets/controls",
            "children": [
              "IPY_MODEL_ebb55a5e5ac74dd78cce66cdf4716b55",
              "IPY_MODEL_7a16e6c517fa40348fabcef966865438",
              "IPY_MODEL_008386d598f4481eb2242ca5d36b143f"
            ]
          }
        },
        "d7ea8c9275564939946e2d9292d1c441": {
          "model_module": "@jupyter-widgets/base",
          "model_name": "LayoutModel",
          "model_module_version": "1.2.0",
          "state": {
            "_view_name": "LayoutView",
            "grid_template_rows": null,
            "right": null,
            "justify_content": null,
            "_view_module": "@jupyter-widgets/base",
            "overflow": null,
            "_model_module_version": "1.2.0",
            "_view_count": null,
            "flex_flow": null,
            "width": null,
            "min_width": null,
            "border": null,
            "align_items": null,
            "bottom": null,
            "_model_module": "@jupyter-widgets/base",
            "top": null,
            "grid_column": null,
            "overflow_y": null,
            "overflow_x": null,
            "grid_auto_flow": null,
            "grid_area": null,
            "grid_template_columns": null,
            "flex": null,
            "_model_name": "LayoutModel",
            "justify_items": null,
            "grid_row": null,
            "max_height": null,
            "align_content": null,
            "visibility": null,
            "align_self": null,
            "height": null,
            "min_height": null,
            "padding": null,
            "grid_auto_rows": null,
            "grid_gap": null,
            "max_width": null,
            "order": null,
            "_view_module_version": "1.2.0",
            "grid_template_areas": null,
            "object_position": null,
            "object_fit": null,
            "grid_auto_columns": null,
            "margin": null,
            "display": null,
            "left": null
          }
        },
        "ebb55a5e5ac74dd78cce66cdf4716b55": {
          "model_module": "@jupyter-widgets/controls",
          "model_name": "HTMLModel",
          "model_module_version": "1.5.0",
          "state": {
            "_view_name": "HTMLView",
            "style": "IPY_MODEL_119624435d4c4d159de4a65bfe8d91e7",
            "_dom_classes": [],
            "description": "",
            "_model_name": "HTMLModel",
            "placeholder": "​",
            "_view_module": "@jupyter-widgets/controls",
            "_model_module_version": "1.5.0",
            "value": "Dl Size...: 100%",
            "_view_count": null,
            "_view_module_version": "1.5.0",
            "description_tooltip": null,
            "_model_module": "@jupyter-widgets/controls",
            "layout": "IPY_MODEL_f82306cba9df484a969b14403d6fee20"
          }
        },
        "7a16e6c517fa40348fabcef966865438": {
          "model_module": "@jupyter-widgets/controls",
          "model_name": "FloatProgressModel",
          "model_module_version": "1.5.0",
          "state": {
            "_view_name": "ProgressView",
            "style": "IPY_MODEL_aade4a0a8be046c496d5ea48543c1fa8",
            "_dom_classes": [],
            "description": "",
            "_model_name": "FloatProgressModel",
            "bar_style": "success",
            "max": 1,
            "_view_module": "@jupyter-widgets/controls",
            "_model_module_version": "1.5.0",
            "value": 1,
            "_view_count": null,
            "_view_module_version": "1.5.0",
            "orientation": "horizontal",
            "min": 0,
            "description_tooltip": null,
            "_model_module": "@jupyter-widgets/controls",
            "layout": "IPY_MODEL_414d96d940bd4236a12d96294f1bf675"
          }
        },
        "008386d598f4481eb2242ca5d36b143f": {
          "model_module": "@jupyter-widgets/controls",
          "model_name": "HTMLModel",
          "model_module_version": "1.5.0",
          "state": {
            "_view_name": "HTMLView",
            "style": "IPY_MODEL_bc8b1b81cd5f402481fea53f303d1b9d",
            "_dom_classes": [],
            "description": "",
            "_model_name": "HTMLModel",
            "placeholder": "​",
            "_view_module": "@jupyter-widgets/controls",
            "_model_module_version": "1.5.0",
            "value": " 827/827 [01:25&lt;00:00, 21.14 MiB/s]",
            "_view_count": null,
            "_view_module_version": "1.5.0",
            "description_tooltip": null,
            "_model_module": "@jupyter-widgets/controls",
            "layout": "IPY_MODEL_17ce8cfa30dc4a8a810fa2623c7968bf"
          }
        },
        "119624435d4c4d159de4a65bfe8d91e7": {
          "model_module": "@jupyter-widgets/controls",
          "model_name": "DescriptionStyleModel",
          "model_module_version": "1.5.0",
          "state": {
            "_view_name": "StyleView",
            "_model_name": "DescriptionStyleModel",
            "description_width": "",
            "_view_module": "@jupyter-widgets/base",
            "_model_module_version": "1.5.0",
            "_view_count": null,
            "_view_module_version": "1.2.0",
            "_model_module": "@jupyter-widgets/controls"
          }
        },
        "f82306cba9df484a969b14403d6fee20": {
          "model_module": "@jupyter-widgets/base",
          "model_name": "LayoutModel",
          "model_module_version": "1.2.0",
          "state": {
            "_view_name": "LayoutView",
            "grid_template_rows": null,
            "right": null,
            "justify_content": null,
            "_view_module": "@jupyter-widgets/base",
            "overflow": null,
            "_model_module_version": "1.2.0",
            "_view_count": null,
            "flex_flow": null,
            "width": null,
            "min_width": null,
            "border": null,
            "align_items": null,
            "bottom": null,
            "_model_module": "@jupyter-widgets/base",
            "top": null,
            "grid_column": null,
            "overflow_y": null,
            "overflow_x": null,
            "grid_auto_flow": null,
            "grid_area": null,
            "grid_template_columns": null,
            "flex": null,
            "_model_name": "LayoutModel",
            "justify_items": null,
            "grid_row": null,
            "max_height": null,
            "align_content": null,
            "visibility": null,
            "align_self": null,
            "height": null,
            "min_height": null,
            "padding": null,
            "grid_auto_rows": null,
            "grid_gap": null,
            "max_width": null,
            "order": null,
            "_view_module_version": "1.2.0",
            "grid_template_areas": null,
            "object_position": null,
            "object_fit": null,
            "grid_auto_columns": null,
            "margin": null,
            "display": null,
            "left": null
          }
        },
        "aade4a0a8be046c496d5ea48543c1fa8": {
          "model_module": "@jupyter-widgets/controls",
          "model_name": "ProgressStyleModel",
          "model_module_version": "1.5.0",
          "state": {
            "_view_name": "StyleView",
            "_model_name": "ProgressStyleModel",
            "description_width": "",
            "_view_module": "@jupyter-widgets/base",
            "_model_module_version": "1.5.0",
            "_view_count": null,
            "_view_module_version": "1.2.0",
            "bar_color": null,
            "_model_module": "@jupyter-widgets/controls"
          }
        },
        "414d96d940bd4236a12d96294f1bf675": {
          "model_module": "@jupyter-widgets/base",
          "model_name": "LayoutModel",
          "model_module_version": "1.2.0",
          "state": {
            "_view_name": "LayoutView",
            "grid_template_rows": null,
            "right": null,
            "justify_content": null,
            "_view_module": "@jupyter-widgets/base",
            "overflow": null,
            "_model_module_version": "1.2.0",
            "_view_count": null,
            "flex_flow": null,
            "width": "20px",
            "min_width": null,
            "border": null,
            "align_items": null,
            "bottom": null,
            "_model_module": "@jupyter-widgets/base",
            "top": null,
            "grid_column": null,
            "overflow_y": null,
            "overflow_x": null,
            "grid_auto_flow": null,
            "grid_area": null,
            "grid_template_columns": null,
            "flex": null,
            "_model_name": "LayoutModel",
            "justify_items": null,
            "grid_row": null,
            "max_height": null,
            "align_content": null,
            "visibility": null,
            "align_self": null,
            "height": null,
            "min_height": null,
            "padding": null,
            "grid_auto_rows": null,
            "grid_gap": null,
            "max_width": null,
            "order": null,
            "_view_module_version": "1.2.0",
            "grid_template_areas": null,
            "object_position": null,
            "object_fit": null,
            "grid_auto_columns": null,
            "margin": null,
            "display": null,
            "left": null
          }
        },
        "bc8b1b81cd5f402481fea53f303d1b9d": {
          "model_module": "@jupyter-widgets/controls",
          "model_name": "DescriptionStyleModel",
          "model_module_version": "1.5.0",
          "state": {
            "_view_name": "StyleView",
            "_model_name": "DescriptionStyleModel",
            "description_width": "",
            "_view_module": "@jupyter-widgets/base",
            "_model_module_version": "1.5.0",
            "_view_count": null,
            "_view_module_version": "1.2.0",
            "_model_module": "@jupyter-widgets/controls"
          }
        },
        "17ce8cfa30dc4a8a810fa2623c7968bf": {
          "model_module": "@jupyter-widgets/base",
          "model_name": "LayoutModel",
          "model_module_version": "1.2.0",
          "state": {
            "_view_name": "LayoutView",
            "grid_template_rows": null,
            "right": null,
            "justify_content": null,
            "_view_module": "@jupyter-widgets/base",
            "overflow": null,
            "_model_module_version": "1.2.0",
            "_view_count": null,
            "flex_flow": null,
            "width": null,
            "min_width": null,
            "border": null,
            "align_items": null,
            "bottom": null,
            "_model_module": "@jupyter-widgets/base",
            "top": null,
            "grid_column": null,
            "overflow_y": null,
            "overflow_x": null,
            "grid_auto_flow": null,
            "grid_area": null,
            "grid_template_columns": null,
            "flex": null,
            "_model_name": "LayoutModel",
            "justify_items": null,
            "grid_row": null,
            "max_height": null,
            "align_content": null,
            "visibility": null,
            "align_self": null,
            "height": null,
            "min_height": null,
            "padding": null,
            "grid_auto_rows": null,
            "grid_gap": null,
            "max_width": null,
            "order": null,
            "_view_module_version": "1.2.0",
            "grid_template_areas": null,
            "object_position": null,
            "object_fit": null,
            "grid_auto_columns": null,
            "margin": null,
            "display": null,
            "left": null
          }
        },
        "d4f40e327b734cce99ec80576654a42a": {
          "model_module": "@jupyter-widgets/controls",
          "model_name": "HBoxModel",
          "model_module_version": "1.5.0",
          "state": {
            "_view_name": "HBoxView",
            "_dom_classes": [],
            "_model_name": "HBoxModel",
            "_view_module": "@jupyter-widgets/controls",
            "_model_module_version": "1.5.0",
            "_view_count": null,
            "_view_module_version": "1.5.0",
            "box_style": "",
            "layout": "IPY_MODEL_40ac8c9331054dd9b0e33412d8d194c0",
            "_model_module": "@jupyter-widgets/controls",
            "children": [
              "IPY_MODEL_54b97130ce8248f1bf00dab74b63ced1",
              "IPY_MODEL_32395c4db20e474bafcd328a5508edc8",
              "IPY_MODEL_2dfe6e69e77f4aff9e3fc38747c9016f"
            ]
          }
        },
        "40ac8c9331054dd9b0e33412d8d194c0": {
          "model_module": "@jupyter-widgets/base",
          "model_name": "LayoutModel",
          "model_module_version": "1.2.0",
          "state": {
            "_view_name": "LayoutView",
            "grid_template_rows": null,
            "right": null,
            "justify_content": null,
            "_view_module": "@jupyter-widgets/base",
            "overflow": null,
            "_model_module_version": "1.2.0",
            "_view_count": null,
            "flex_flow": null,
            "width": null,
            "min_width": null,
            "border": null,
            "align_items": null,
            "bottom": null,
            "_model_module": "@jupyter-widgets/base",
            "top": null,
            "grid_column": null,
            "overflow_y": null,
            "overflow_x": null,
            "grid_auto_flow": null,
            "grid_area": null,
            "grid_template_columns": null,
            "flex": null,
            "_model_name": "LayoutModel",
            "justify_items": null,
            "grid_row": null,
            "max_height": null,
            "align_content": null,
            "visibility": null,
            "align_self": null,
            "height": null,
            "min_height": null,
            "padding": null,
            "grid_auto_rows": null,
            "grid_gap": null,
            "max_width": null,
            "order": null,
            "_view_module_version": "1.2.0",
            "grid_template_areas": null,
            "object_position": null,
            "object_fit": null,
            "grid_auto_columns": null,
            "margin": null,
            "display": null,
            "left": null
          }
        },
        "54b97130ce8248f1bf00dab74b63ced1": {
          "model_module": "@jupyter-widgets/controls",
          "model_name": "HTMLModel",
          "model_module_version": "1.5.0",
          "state": {
            "_view_name": "HTMLView",
            "style": "IPY_MODEL_215e4725c8204357a8b026e64b0383aa",
            "_dom_classes": [],
            "description": "",
            "_model_name": "HTMLModel",
            "placeholder": "​",
            "_view_module": "@jupyter-widgets/controls",
            "_model_module_version": "1.5.0",
            "value": "Extraction completed...: 100%",
            "_view_count": null,
            "_view_module_version": "1.5.0",
            "description_tooltip": null,
            "_model_module": "@jupyter-widgets/controls",
            "layout": "IPY_MODEL_6b3df1acd59547eba990f522296be572"
          }
        },
        "32395c4db20e474bafcd328a5508edc8": {
          "model_module": "@jupyter-widgets/controls",
          "model_name": "FloatProgressModel",
          "model_module_version": "1.5.0",
          "state": {
            "_view_name": "ProgressView",
            "style": "IPY_MODEL_50282eeeeb304b3fb8816121396b81f4",
            "_dom_classes": [],
            "description": "",
            "_model_name": "FloatProgressModel",
            "bar_style": "success",
            "max": 1,
            "_view_module": "@jupyter-widgets/controls",
            "_model_module_version": "1.5.0",
            "value": 1,
            "_view_count": null,
            "_view_module_version": "1.5.0",
            "orientation": "horizontal",
            "min": 0,
            "description_tooltip": null,
            "_model_module": "@jupyter-widgets/controls",
            "layout": "IPY_MODEL_6c3816e8ec2047b99e87af47dca98241"
          }
        },
        "2dfe6e69e77f4aff9e3fc38747c9016f": {
          "model_module": "@jupyter-widgets/controls",
          "model_name": "HTMLModel",
          "model_module_version": "1.5.0",
          "state": {
            "_view_name": "HTMLView",
            "style": "IPY_MODEL_76158ba6f009452bb71067b5b608704a",
            "_dom_classes": [],
            "description": "",
            "_model_name": "HTMLModel",
            "placeholder": "​",
            "_view_module": "@jupyter-widgets/controls",
            "_model_module_version": "1.5.0",
            "value": " 1/1 [01:25&lt;00:00, 85.40s/ file]",
            "_view_count": null,
            "_view_module_version": "1.5.0",
            "description_tooltip": null,
            "_model_module": "@jupyter-widgets/controls",
            "layout": "IPY_MODEL_e0a89b8904f94c188592aa6175e3d3fb"
          }
        },
        "215e4725c8204357a8b026e64b0383aa": {
          "model_module": "@jupyter-widgets/controls",
          "model_name": "DescriptionStyleModel",
          "model_module_version": "1.5.0",
          "state": {
            "_view_name": "StyleView",
            "_model_name": "DescriptionStyleModel",
            "description_width": "",
            "_view_module": "@jupyter-widgets/base",
            "_model_module_version": "1.5.0",
            "_view_count": null,
            "_view_module_version": "1.2.0",
            "_model_module": "@jupyter-widgets/controls"
          }
        },
        "6b3df1acd59547eba990f522296be572": {
          "model_module": "@jupyter-widgets/base",
          "model_name": "LayoutModel",
          "model_module_version": "1.2.0",
          "state": {
            "_view_name": "LayoutView",
            "grid_template_rows": null,
            "right": null,
            "justify_content": null,
            "_view_module": "@jupyter-widgets/base",
            "overflow": null,
            "_model_module_version": "1.2.0",
            "_view_count": null,
            "flex_flow": null,
            "width": null,
            "min_width": null,
            "border": null,
            "align_items": null,
            "bottom": null,
            "_model_module": "@jupyter-widgets/base",
            "top": null,
            "grid_column": null,
            "overflow_y": null,
            "overflow_x": null,
            "grid_auto_flow": null,
            "grid_area": null,
            "grid_template_columns": null,
            "flex": null,
            "_model_name": "LayoutModel",
            "justify_items": null,
            "grid_row": null,
            "max_height": null,
            "align_content": null,
            "visibility": null,
            "align_self": null,
            "height": null,
            "min_height": null,
            "padding": null,
            "grid_auto_rows": null,
            "grid_gap": null,
            "max_width": null,
            "order": null,
            "_view_module_version": "1.2.0",
            "grid_template_areas": null,
            "object_position": null,
            "object_fit": null,
            "grid_auto_columns": null,
            "margin": null,
            "display": null,
            "left": null
          }
        },
        "50282eeeeb304b3fb8816121396b81f4": {
          "model_module": "@jupyter-widgets/controls",
          "model_name": "ProgressStyleModel",
          "model_module_version": "1.5.0",
          "state": {
            "_view_name": "StyleView",
            "_model_name": "ProgressStyleModel",
            "description_width": "",
            "_view_module": "@jupyter-widgets/base",
            "_model_module_version": "1.5.0",
            "_view_count": null,
            "_view_module_version": "1.2.0",
            "bar_color": null,
            "_model_module": "@jupyter-widgets/controls"
          }
        },
        "6c3816e8ec2047b99e87af47dca98241": {
          "model_module": "@jupyter-widgets/base",
          "model_name": "LayoutModel",
          "model_module_version": "1.2.0",
          "state": {
            "_view_name": "LayoutView",
            "grid_template_rows": null,
            "right": null,
            "justify_content": null,
            "_view_module": "@jupyter-widgets/base",
            "overflow": null,
            "_model_module_version": "1.2.0",
            "_view_count": null,
            "flex_flow": null,
            "width": "20px",
            "min_width": null,
            "border": null,
            "align_items": null,
            "bottom": null,
            "_model_module": "@jupyter-widgets/base",
            "top": null,
            "grid_column": null,
            "overflow_y": null,
            "overflow_x": null,
            "grid_auto_flow": null,
            "grid_area": null,
            "grid_template_columns": null,
            "flex": null,
            "_model_name": "LayoutModel",
            "justify_items": null,
            "grid_row": null,
            "max_height": null,
            "align_content": null,
            "visibility": null,
            "align_self": null,
            "height": null,
            "min_height": null,
            "padding": null,
            "grid_auto_rows": null,
            "grid_gap": null,
            "max_width": null,
            "order": null,
            "_view_module_version": "1.2.0",
            "grid_template_areas": null,
            "object_position": null,
            "object_fit": null,
            "grid_auto_columns": null,
            "margin": null,
            "display": null,
            "left": null
          }
        },
        "76158ba6f009452bb71067b5b608704a": {
          "model_module": "@jupyter-widgets/controls",
          "model_name": "DescriptionStyleModel",
          "model_module_version": "1.5.0",
          "state": {
            "_view_name": "StyleView",
            "_model_name": "DescriptionStyleModel",
            "description_width": "",
            "_view_module": "@jupyter-widgets/base",
            "_model_module_version": "1.5.0",
            "_view_count": null,
            "_view_module_version": "1.2.0",
            "_model_module": "@jupyter-widgets/controls"
          }
        },
        "e0a89b8904f94c188592aa6175e3d3fb": {
          "model_module": "@jupyter-widgets/base",
          "model_name": "LayoutModel",
          "model_module_version": "1.2.0",
          "state": {
            "_view_name": "LayoutView",
            "grid_template_rows": null,
            "right": null,
            "justify_content": null,
            "_view_module": "@jupyter-widgets/base",
            "overflow": null,
            "_model_module_version": "1.2.0",
            "_view_count": null,
            "flex_flow": null,
            "width": null,
            "min_width": null,
            "border": null,
            "align_items": null,
            "bottom": null,
            "_model_module": "@jupyter-widgets/base",
            "top": null,
            "grid_column": null,
            "overflow_y": null,
            "overflow_x": null,
            "grid_auto_flow": null,
            "grid_area": null,
            "grid_template_columns": null,
            "flex": null,
            "_model_name": "LayoutModel",
            "justify_items": null,
            "grid_row": null,
            "max_height": null,
            "align_content": null,
            "visibility": null,
            "align_self": null,
            "height": null,
            "min_height": null,
            "padding": null,
            "grid_auto_rows": null,
            "grid_gap": null,
            "max_width": null,
            "order": null,
            "_view_module_version": "1.2.0",
            "grid_template_areas": null,
            "object_position": null,
            "object_fit": null,
            "grid_auto_columns": null,
            "margin": null,
            "display": null,
            "left": null
          }
        },
        "cf90ced1195747098f2d36c60bbdb780": {
          "model_module": "@jupyter-widgets/controls",
          "model_name": "HBoxModel",
          "model_module_version": "1.5.0",
          "state": {
            "_view_name": "HBoxView",
            "_dom_classes": [],
            "_model_name": "HBoxModel",
            "_view_module": "@jupyter-widgets/controls",
            "_model_module_version": "1.5.0",
            "_view_count": null,
            "_view_module_version": "1.5.0",
            "box_style": "",
            "layout": "IPY_MODEL_fc187b3623de46a9a0faa700621b4603",
            "_model_module": "@jupyter-widgets/controls",
            "children": [
              "IPY_MODEL_d5185da27b9e4e32a8bfd74d1a21c01d",
              "IPY_MODEL_4c9f85d474644e6986dfa91d7c0b1a2e",
              "IPY_MODEL_fd6dd5dc59714b2694dcd0bd64ba3cf8"
            ]
          }
        },
        "fc187b3623de46a9a0faa700621b4603": {
          "model_module": "@jupyter-widgets/base",
          "model_name": "LayoutModel",
          "model_module_version": "1.2.0",
          "state": {
            "_view_name": "LayoutView",
            "grid_template_rows": null,
            "right": null,
            "justify_content": null,
            "_view_module": "@jupyter-widgets/base",
            "overflow": null,
            "_model_module_version": "1.2.0",
            "_view_count": null,
            "flex_flow": null,
            "width": null,
            "min_width": null,
            "border": null,
            "align_items": null,
            "bottom": null,
            "_model_module": "@jupyter-widgets/base",
            "top": null,
            "grid_column": null,
            "overflow_y": null,
            "overflow_x": null,
            "grid_auto_flow": null,
            "grid_area": null,
            "grid_template_columns": null,
            "flex": null,
            "_model_name": "LayoutModel",
            "justify_items": null,
            "grid_row": null,
            "max_height": null,
            "align_content": null,
            "visibility": null,
            "align_self": null,
            "height": null,
            "min_height": null,
            "padding": null,
            "grid_auto_rows": null,
            "grid_gap": null,
            "max_width": null,
            "order": null,
            "_view_module_version": "1.2.0",
            "grid_template_areas": null,
            "object_position": null,
            "object_fit": null,
            "grid_auto_columns": null,
            "margin": null,
            "display": null,
            "left": null
          }
        },
        "d5185da27b9e4e32a8bfd74d1a21c01d": {
          "model_module": "@jupyter-widgets/controls",
          "model_name": "HTMLModel",
          "model_module_version": "1.5.0",
          "state": {
            "_view_name": "HTMLView",
            "style": "IPY_MODEL_a5b915769df344b2a8208e301181dcce",
            "_dom_classes": [],
            "description": "",
            "_model_name": "HTMLModel",
            "placeholder": "​",
            "_view_module": "@jupyter-widgets/controls",
            "_model_module_version": "1.5.0",
            "value": "",
            "_view_count": null,
            "_view_module_version": "1.5.0",
            "description_tooltip": null,
            "_model_module": "@jupyter-widgets/controls",
            "layout": "IPY_MODEL_d231b199d4034076948516bb2234cbf6"
          }
        },
        "4c9f85d474644e6986dfa91d7c0b1a2e": {
          "model_module": "@jupyter-widgets/controls",
          "model_name": "FloatProgressModel",
          "model_module_version": "1.5.0",
          "state": {
            "_view_name": "ProgressView",
            "style": "IPY_MODEL_aa4b4d8583af448d81efd0ae3b6d774e",
            "_dom_classes": [],
            "description": "",
            "_model_name": "FloatProgressModel",
            "bar_style": "info",
            "max": 1,
            "_view_module": "@jupyter-widgets/controls",
            "_model_module_version": "1.5.0",
            "value": 1,
            "_view_count": null,
            "_view_module_version": "1.5.0",
            "orientation": "horizontal",
            "min": 0,
            "description_tooltip": null,
            "_model_module": "@jupyter-widgets/controls",
            "layout": "IPY_MODEL_5f45b6a4389e484e93c777d21f5be5f6"
          }
        },
        "fd6dd5dc59714b2694dcd0bd64ba3cf8": {
          "model_module": "@jupyter-widgets/controls",
          "model_name": "HTMLModel",
          "model_module_version": "1.5.0",
          "state": {
            "_view_name": "HTMLView",
            "style": "IPY_MODEL_0315d0afab0941458a4fd3b5f687ea38",
            "_dom_classes": [],
            "description": "",
            "_model_name": "HTMLModel",
            "placeholder": "​",
            "_view_module": "@jupyter-widgets/controls",
            "_model_module_version": "1.5.0",
            "value": " 54224/0 [00:29&lt;00:00, 1949.90 examples/s]",
            "_view_count": null,
            "_view_module_version": "1.5.0",
            "description_tooltip": null,
            "_model_module": "@jupyter-widgets/controls",
            "layout": "IPY_MODEL_aef2e03ec1de414ca2cd2135035629d1"
          }
        },
        "a5b915769df344b2a8208e301181dcce": {
          "model_module": "@jupyter-widgets/controls",
          "model_name": "DescriptionStyleModel",
          "model_module_version": "1.5.0",
          "state": {
            "_view_name": "StyleView",
            "_model_name": "DescriptionStyleModel",
            "description_width": "",
            "_view_module": "@jupyter-widgets/base",
            "_model_module_version": "1.5.0",
            "_view_count": null,
            "_view_module_version": "1.2.0",
            "_model_module": "@jupyter-widgets/controls"
          }
        },
        "d231b199d4034076948516bb2234cbf6": {
          "model_module": "@jupyter-widgets/base",
          "model_name": "LayoutModel",
          "model_module_version": "1.2.0",
          "state": {
            "_view_name": "LayoutView",
            "grid_template_rows": null,
            "right": null,
            "justify_content": null,
            "_view_module": "@jupyter-widgets/base",
            "overflow": null,
            "_model_module_version": "1.2.0",
            "_view_count": null,
            "flex_flow": null,
            "width": null,
            "min_width": null,
            "border": null,
            "align_items": null,
            "bottom": null,
            "_model_module": "@jupyter-widgets/base",
            "top": null,
            "grid_column": null,
            "overflow_y": null,
            "overflow_x": null,
            "grid_auto_flow": null,
            "grid_area": null,
            "grid_template_columns": null,
            "flex": null,
            "_model_name": "LayoutModel",
            "justify_items": null,
            "grid_row": null,
            "max_height": null,
            "align_content": null,
            "visibility": null,
            "align_self": null,
            "height": null,
            "min_height": null,
            "padding": null,
            "grid_auto_rows": null,
            "grid_gap": null,
            "max_width": null,
            "order": null,
            "_view_module_version": "1.2.0",
            "grid_template_areas": null,
            "object_position": null,
            "object_fit": null,
            "grid_auto_columns": null,
            "margin": null,
            "display": null,
            "left": null
          }
        },
        "aa4b4d8583af448d81efd0ae3b6d774e": {
          "model_module": "@jupyter-widgets/controls",
          "model_name": "ProgressStyleModel",
          "model_module_version": "1.5.0",
          "state": {
            "_view_name": "StyleView",
            "_model_name": "ProgressStyleModel",
            "description_width": "",
            "_view_module": "@jupyter-widgets/base",
            "_model_module_version": "1.5.0",
            "_view_count": null,
            "_view_module_version": "1.2.0",
            "bar_color": null,
            "_model_module": "@jupyter-widgets/controls"
          }
        },
        "5f45b6a4389e484e93c777d21f5be5f6": {
          "model_module": "@jupyter-widgets/base",
          "model_name": "LayoutModel",
          "model_module_version": "1.2.0",
          "state": {
            "_view_name": "LayoutView",
            "grid_template_rows": null,
            "right": null,
            "justify_content": null,
            "_view_module": "@jupyter-widgets/base",
            "overflow": null,
            "_model_module_version": "1.2.0",
            "_view_count": null,
            "flex_flow": null,
            "width": "20px",
            "min_width": null,
            "border": null,
            "align_items": null,
            "bottom": null,
            "_model_module": "@jupyter-widgets/base",
            "top": null,
            "grid_column": null,
            "overflow_y": null,
            "overflow_x": null,
            "grid_auto_flow": null,
            "grid_area": null,
            "grid_template_columns": null,
            "flex": null,
            "_model_name": "LayoutModel",
            "justify_items": null,
            "grid_row": null,
            "max_height": null,
            "align_content": null,
            "visibility": null,
            "align_self": null,
            "height": null,
            "min_height": null,
            "padding": null,
            "grid_auto_rows": null,
            "grid_gap": null,
            "max_width": null,
            "order": null,
            "_view_module_version": "1.2.0",
            "grid_template_areas": null,
            "object_position": null,
            "object_fit": null,
            "grid_auto_columns": null,
            "margin": null,
            "display": null,
            "left": null
          }
        },
        "0315d0afab0941458a4fd3b5f687ea38": {
          "model_module": "@jupyter-widgets/controls",
          "model_name": "DescriptionStyleModel",
          "model_module_version": "1.5.0",
          "state": {
            "_view_name": "StyleView",
            "_model_name": "DescriptionStyleModel",
            "description_width": "",
            "_view_module": "@jupyter-widgets/base",
            "_model_module_version": "1.5.0",
            "_view_count": null,
            "_view_module_version": "1.2.0",
            "_model_module": "@jupyter-widgets/controls"
          }
        },
        "aef2e03ec1de414ca2cd2135035629d1": {
          "model_module": "@jupyter-widgets/base",
          "model_name": "LayoutModel",
          "model_module_version": "1.2.0",
          "state": {
            "_view_name": "LayoutView",
            "grid_template_rows": null,
            "right": null,
            "justify_content": null,
            "_view_module": "@jupyter-widgets/base",
            "overflow": null,
            "_model_module_version": "1.2.0",
            "_view_count": null,
            "flex_flow": null,
            "width": null,
            "min_width": null,
            "border": null,
            "align_items": null,
            "bottom": null,
            "_model_module": "@jupyter-widgets/base",
            "top": null,
            "grid_column": null,
            "overflow_y": null,
            "overflow_x": null,
            "grid_auto_flow": null,
            "grid_area": null,
            "grid_template_columns": null,
            "flex": null,
            "_model_name": "LayoutModel",
            "justify_items": null,
            "grid_row": null,
            "max_height": null,
            "align_content": null,
            "visibility": null,
            "align_self": null,
            "height": null,
            "min_height": null,
            "padding": null,
            "grid_auto_rows": null,
            "grid_gap": null,
            "max_width": null,
            "order": null,
            "_view_module_version": "1.2.0",
            "grid_template_areas": null,
            "object_position": null,
            "object_fit": null,
            "grid_auto_columns": null,
            "margin": null,
            "display": null,
            "left": null
          }
        },
        "bf656f8116054734ac3b2727dde0bb94": {
          "model_module": "@jupyter-widgets/controls",
          "model_name": "HBoxModel",
          "model_module_version": "1.5.0",
          "state": {
            "_view_name": "HBoxView",
            "_dom_classes": [],
            "_model_name": "HBoxModel",
            "_view_module": "@jupyter-widgets/controls",
            "_model_module_version": "1.5.0",
            "_view_count": null,
            "_view_module_version": "1.5.0",
            "box_style": "",
            "layout": "IPY_MODEL_57095a41ccbb44efa89006a5bbd10a94",
            "_model_module": "@jupyter-widgets/controls",
            "children": [
              "IPY_MODEL_f0dc861e19884335babd9446f94599c2",
              "IPY_MODEL_89b448ad0c024b05bd525fbc96dd8c29",
              "IPY_MODEL_1991a0b88cc740d8bf163b13803f4262"
            ]
          }
        },
        "57095a41ccbb44efa89006a5bbd10a94": {
          "model_module": "@jupyter-widgets/base",
          "model_name": "LayoutModel",
          "model_module_version": "1.2.0",
          "state": {
            "_view_name": "LayoutView",
            "grid_template_rows": null,
            "right": null,
            "justify_content": null,
            "_view_module": "@jupyter-widgets/base",
            "overflow": null,
            "_model_module_version": "1.2.0",
            "_view_count": null,
            "flex_flow": null,
            "width": null,
            "min_width": null,
            "border": null,
            "align_items": null,
            "bottom": null,
            "_model_module": "@jupyter-widgets/base",
            "top": null,
            "grid_column": null,
            "overflow_y": null,
            "overflow_x": null,
            "grid_auto_flow": null,
            "grid_area": null,
            "grid_template_columns": null,
            "flex": null,
            "_model_name": "LayoutModel",
            "justify_items": null,
            "grid_row": null,
            "max_height": null,
            "align_content": null,
            "visibility": null,
            "align_self": null,
            "height": null,
            "min_height": null,
            "padding": null,
            "grid_auto_rows": null,
            "grid_gap": null,
            "max_width": null,
            "order": null,
            "_view_module_version": "1.2.0",
            "grid_template_areas": null,
            "object_position": null,
            "object_fit": null,
            "grid_auto_columns": null,
            "margin": null,
            "display": null,
            "left": null
          }
        },
        "f0dc861e19884335babd9446f94599c2": {
          "model_module": "@jupyter-widgets/controls",
          "model_name": "HTMLModel",
          "model_module_version": "1.5.0",
          "state": {
            "_view_name": "HTMLView",
            "style": "IPY_MODEL_e805192ff54043859ba3f3e8b5cc70a7",
            "_dom_classes": [],
            "description": "",
            "_model_name": "HTMLModel",
            "placeholder": "​",
            "_view_module": "@jupyter-widgets/controls",
            "_model_module_version": "1.5.0",
            "value": "100%",
            "_view_count": null,
            "_view_module_version": "1.5.0",
            "description_tooltip": null,
            "_model_module": "@jupyter-widgets/controls",
            "layout": "IPY_MODEL_50a640601579443086c66aca82ea2cdf"
          }
        },
        "89b448ad0c024b05bd525fbc96dd8c29": {
          "model_module": "@jupyter-widgets/controls",
          "model_name": "FloatProgressModel",
          "model_module_version": "1.5.0",
          "state": {
            "_view_name": "ProgressView",
            "style": "IPY_MODEL_fd7c0e820ee248c3b76b8791cdb37e06",
            "_dom_classes": [],
            "description": "",
            "_model_name": "FloatProgressModel",
            "bar_style": "danger",
            "max": 54303,
            "_view_module": "@jupyter-widgets/controls",
            "_model_module_version": "1.5.0",
            "value": 54302,
            "_view_count": null,
            "_view_module_version": "1.5.0",
            "orientation": "horizontal",
            "min": 0,
            "description_tooltip": null,
            "_model_module": "@jupyter-widgets/controls",
            "layout": "IPY_MODEL_ee751e94086a44ad91d719afeea0b2a8"
          }
        },
        "1991a0b88cc740d8bf163b13803f4262": {
          "model_module": "@jupyter-widgets/controls",
          "model_name": "HTMLModel",
          "model_module_version": "1.5.0",
          "state": {
            "_view_name": "HTMLView",
            "style": "IPY_MODEL_014efcb954d04adaac892cf398723841",
            "_dom_classes": [],
            "description": "",
            "_model_name": "HTMLModel",
            "placeholder": "​",
            "_view_module": "@jupyter-widgets/controls",
            "_model_module_version": "1.5.0",
            "value": " 54302/54303 [00:02&lt;00:00, 15994.38 examples/s]",
            "_view_count": null,
            "_view_module_version": "1.5.0",
            "description_tooltip": null,
            "_model_module": "@jupyter-widgets/controls",
            "layout": "IPY_MODEL_c1ad567da92b414baf5fe428644cbfef"
          }
        },
        "e805192ff54043859ba3f3e8b5cc70a7": {
          "model_module": "@jupyter-widgets/controls",
          "model_name": "DescriptionStyleModel",
          "model_module_version": "1.5.0",
          "state": {
            "_view_name": "StyleView",
            "_model_name": "DescriptionStyleModel",
            "description_width": "",
            "_view_module": "@jupyter-widgets/base",
            "_model_module_version": "1.5.0",
            "_view_count": null,
            "_view_module_version": "1.2.0",
            "_model_module": "@jupyter-widgets/controls"
          }
        },
        "50a640601579443086c66aca82ea2cdf": {
          "model_module": "@jupyter-widgets/base",
          "model_name": "LayoutModel",
          "model_module_version": "1.2.0",
          "state": {
            "_view_name": "LayoutView",
            "grid_template_rows": null,
            "right": null,
            "justify_content": null,
            "_view_module": "@jupyter-widgets/base",
            "overflow": null,
            "_model_module_version": "1.2.0",
            "_view_count": null,
            "flex_flow": null,
            "width": null,
            "min_width": null,
            "border": null,
            "align_items": null,
            "bottom": null,
            "_model_module": "@jupyter-widgets/base",
            "top": null,
            "grid_column": null,
            "overflow_y": null,
            "overflow_x": null,
            "grid_auto_flow": null,
            "grid_area": null,
            "grid_template_columns": null,
            "flex": null,
            "_model_name": "LayoutModel",
            "justify_items": null,
            "grid_row": null,
            "max_height": null,
            "align_content": null,
            "visibility": null,
            "align_self": null,
            "height": null,
            "min_height": null,
            "padding": null,
            "grid_auto_rows": null,
            "grid_gap": null,
            "max_width": null,
            "order": null,
            "_view_module_version": "1.2.0",
            "grid_template_areas": null,
            "object_position": null,
            "object_fit": null,
            "grid_auto_columns": null,
            "margin": null,
            "display": null,
            "left": null
          }
        },
        "fd7c0e820ee248c3b76b8791cdb37e06": {
          "model_module": "@jupyter-widgets/controls",
          "model_name": "ProgressStyleModel",
          "model_module_version": "1.5.0",
          "state": {
            "_view_name": "StyleView",
            "_model_name": "ProgressStyleModel",
            "description_width": "",
            "_view_module": "@jupyter-widgets/base",
            "_model_module_version": "1.5.0",
            "_view_count": null,
            "_view_module_version": "1.2.0",
            "bar_color": null,
            "_model_module": "@jupyter-widgets/controls"
          }
        },
        "ee751e94086a44ad91d719afeea0b2a8": {
          "model_module": "@jupyter-widgets/base",
          "model_name": "LayoutModel",
          "model_module_version": "1.2.0",
          "state": {
            "_view_name": "LayoutView",
            "grid_template_rows": null,
            "right": null,
            "justify_content": null,
            "_view_module": "@jupyter-widgets/base",
            "overflow": null,
            "_model_module_version": "1.2.0",
            "_view_count": null,
            "flex_flow": null,
            "width": null,
            "min_width": null,
            "border": null,
            "align_items": null,
            "bottom": null,
            "_model_module": "@jupyter-widgets/base",
            "top": null,
            "grid_column": null,
            "overflow_y": null,
            "overflow_x": null,
            "grid_auto_flow": null,
            "grid_area": null,
            "grid_template_columns": null,
            "flex": null,
            "_model_name": "LayoutModel",
            "justify_items": null,
            "grid_row": null,
            "max_height": null,
            "align_content": null,
            "visibility": null,
            "align_self": null,
            "height": null,
            "min_height": null,
            "padding": null,
            "grid_auto_rows": null,
            "grid_gap": null,
            "max_width": null,
            "order": null,
            "_view_module_version": "1.2.0",
            "grid_template_areas": null,
            "object_position": null,
            "object_fit": null,
            "grid_auto_columns": null,
            "margin": null,
            "display": null,
            "left": null
          }
        },
        "014efcb954d04adaac892cf398723841": {
          "model_module": "@jupyter-widgets/controls",
          "model_name": "DescriptionStyleModel",
          "model_module_version": "1.5.0",
          "state": {
            "_view_name": "StyleView",
            "_model_name": "DescriptionStyleModel",
            "description_width": "",
            "_view_module": "@jupyter-widgets/base",
            "_model_module_version": "1.5.0",
            "_view_count": null,
            "_view_module_version": "1.2.0",
            "_model_module": "@jupyter-widgets/controls"
          }
        },
        "c1ad567da92b414baf5fe428644cbfef": {
          "model_module": "@jupyter-widgets/base",
          "model_name": "LayoutModel",
          "model_module_version": "1.2.0",
          "state": {
            "_view_name": "LayoutView",
            "grid_template_rows": null,
            "right": null,
            "justify_content": null,
            "_view_module": "@jupyter-widgets/base",
            "overflow": null,
            "_model_module_version": "1.2.0",
            "_view_count": null,
            "flex_flow": null,
            "width": null,
            "min_width": null,
            "border": null,
            "align_items": null,
            "bottom": null,
            "_model_module": "@jupyter-widgets/base",
            "top": null,
            "grid_column": null,
            "overflow_y": null,
            "overflow_x": null,
            "grid_auto_flow": null,
            "grid_area": null,
            "grid_template_columns": null,
            "flex": null,
            "_model_name": "LayoutModel",
            "justify_items": null,
            "grid_row": null,
            "max_height": null,
            "align_content": null,
            "visibility": null,
            "align_self": null,
            "height": null,
            "min_height": null,
            "padding": null,
            "grid_auto_rows": null,
            "grid_gap": null,
            "max_width": null,
            "order": null,
            "_view_module_version": "1.2.0",
            "grid_template_areas": null,
            "object_position": null,
            "object_fit": null,
            "grid_auto_columns": null,
            "margin": null,
            "display": null,
            "left": null
          }
        }
      }
    }
  },
  "cells": [
    {
      "cell_type": "markdown",
      "metadata": {
        "id": "XyWqLAU8ljXS"
      },
      "source": [
        "Pretraining the Simclrv2 model already avaialble tfds dataset-\"plant_village\"."
      ]
    },
    {
      "cell_type": "code",
      "metadata": {
        "id": "afLcBRA6aHWE",
        "colab": {
          "base_uri": "https://localhost:8080/"
        },
        "outputId": "be2f8762-d591-455d-b4c8-f09786204564"
      },
      "source": [
        "from google.colab import drive\n",
        "drive.mount('/content/drive')"
      ],
      "execution_count": 25,
      "outputs": [
        {
          "output_type": "stream",
          "name": "stdout",
          "text": [
            "Drive already mounted at /content/drive; to attempt to forcibly remount, call drive.mount(\"/content/drive\", force_remount=True).\n"
          ]
        }
      ]
    },
    {
      "cell_type": "code",
      "metadata": {
        "colab": {
          "base_uri": "https://localhost:8080/"
        },
        "id": "IhKqa6GjaaUz",
        "outputId": "335cfd32-87fe-44a3-d7b5-3e41ce5acfc7"
      },
      "source": [
        "%cd /content/drive/Shareddrives/297_project/simclrv2/"
      ],
      "execution_count": 1,
      "outputs": [
        {
          "output_type": "stream",
          "name": "stdout",
          "text": [
            "/content/drive/Shareddrives/297_project/simclrv2\n"
          ]
        }
      ]
    },
    {
      "cell_type": "code",
      "metadata": {
        "id": "9zw2zz1LauYE",
        "colab": {
          "base_uri": "https://localhost:8080/"
        },
        "outputId": "4da228c6-66e0-400c-bbe4-75f96a4db6d9"
      },
      "source": [
        "!ls"
      ],
      "execution_count": 2,
      "outputs": [
        {
          "output_type": "stream",
          "name": "stdout",
          "text": [
            "checkpoints  data.py\t\tmodel.py       __pycache__  saved_model\n",
            "config2.py   data_util.py\tmodel_util.py  resnet.py\n",
            "config.py    lars_optimizer.py\tobjective.py   run.py\n"
          ]
        }
      ]
    },
    {
      "cell_type": "code",
      "metadata": {
        "colab": {
          "base_uri": "https://localhost:8080/"
        },
        "id": "Cn9QOntWa5PG",
        "outputId": "7c855d68-3f84-4970-9c72-5080e9c21ef8"
      },
      "source": [
        "!nvidia-smi"
      ],
      "execution_count": 3,
      "outputs": [
        {
          "output_type": "stream",
          "name": "stdout",
          "text": [
            "Tue Nov 30 21:10:49 2021       \n",
            "+-----------------------------------------------------------------------------+\n",
            "| NVIDIA-SMI 495.44       Driver Version: 460.32.03    CUDA Version: 11.2     |\n",
            "|-------------------------------+----------------------+----------------------+\n",
            "| GPU  Name        Persistence-M| Bus-Id        Disp.A | Volatile Uncorr. ECC |\n",
            "| Fan  Temp  Perf  Pwr:Usage/Cap|         Memory-Usage | GPU-Util  Compute M. |\n",
            "|                               |                      |               MIG M. |\n",
            "|===============================+======================+======================|\n",
            "|   0  Tesla P100-PCIE...  Off  | 00000000:00:04.0 Off |                    0 |\n",
            "| N/A   43C    P0    31W / 250W |      0MiB / 16280MiB |      0%      Default |\n",
            "|                               |                      |                  N/A |\n",
            "+-------------------------------+----------------------+----------------------+\n",
            "                                                                               \n",
            "+-----------------------------------------------------------------------------+\n",
            "| Processes:                                                                  |\n",
            "|  GPU   GI   CI        PID   Type   Process name                  GPU Memory |\n",
            "|        ID   ID                                                   Usage      |\n",
            "|=============================================================================|\n",
            "|  No running processes found                                                 |\n",
            "+-----------------------------------------------------------------------------+\n"
          ]
        }
      ]
    },
    {
      "cell_type": "code",
      "metadata": {
        "colab": {
          "base_uri": "https://localhost:8080/"
        },
        "id": "JoUR9V-JboJa",
        "outputId": "9b8c66a3-f533-4e12-fe85-17090f914d99"
      },
      "source": [
        "!pip install resnet"
      ],
      "execution_count": 4,
      "outputs": [
        {
          "output_type": "stream",
          "name": "stdout",
          "text": [
            "Requirement already satisfied: resnet in /usr/local/lib/python3.7/dist-packages (0.1)\n",
            "Requirement already satisfied: keras>=2.0 in /usr/local/lib/python3.7/dist-packages (from resnet) (2.7.0)\n"
          ]
        }
      ]
    },
    {
      "cell_type": "code",
      "metadata": {
        "id": "enyEXDZLa7Pb"
      },
      "source": [
        "!pip install -q tensorflow-datasets\n",
        "!pip install -q tensorflow-hub"
      ],
      "execution_count": 5,
      "outputs": []
    },
    {
      "cell_type": "code",
      "metadata": {
        "colab": {
          "base_uri": "https://localhost:8080/"
        },
        "id": "V6B0q1ECcGsA",
        "outputId": "c11497ed-5dff-4a94-8c96-034c046908f9"
      },
      "source": [
        "!pip install keras_applications"
      ],
      "execution_count": 6,
      "outputs": [
        {
          "output_type": "stream",
          "name": "stdout",
          "text": [
            "Requirement already satisfied: keras_applications in /usr/local/lib/python3.7/dist-packages (1.0.8)\n",
            "Requirement already satisfied: h5py in /usr/local/lib/python3.7/dist-packages (from keras_applications) (3.1.0)\n",
            "Requirement already satisfied: numpy>=1.9.1 in /usr/local/lib/python3.7/dist-packages (from keras_applications) (1.19.5)\n",
            "Requirement already satisfied: cached-property in /usr/local/lib/python3.7/dist-packages (from h5py->keras_applications) (1.5.2)\n"
          ]
        }
      ]
    },
    {
      "cell_type": "code",
      "metadata": {
        "colab": {
          "base_uri": "https://localhost:8080/"
        },
        "id": "FwPCe911cbRg",
        "outputId": "1e8a09b4-57c7-4a7c-e777-f22db6ff7b8f"
      },
      "source": [
        "!pip install data"
      ],
      "execution_count": 7,
      "outputs": [
        {
          "output_type": "stream",
          "name": "stdout",
          "text": [
            "Requirement already satisfied: data in /usr/local/lib/python3.7/dist-packages (0.4)\n",
            "Requirement already satisfied: six in /usr/local/lib/python3.7/dist-packages (from data) (1.15.0)\n",
            "Requirement already satisfied: funcsigs in /usr/local/lib/python3.7/dist-packages (from data) (1.0.2)\n",
            "Requirement already satisfied: decorator in /usr/local/lib/python3.7/dist-packages (from data) (4.4.2)\n"
          ]
        }
      ]
    },
    {
      "cell_type": "markdown",
      "metadata": {
        "id": "kCTtVM2rngRL"
      },
      "source": [
        "Importing the requisite libraries"
      ]
    },
    {
      "cell_type": "code",
      "metadata": {
        "id": "pd5nEJH0eA6U"
      },
      "source": [
        "import tensorflow.compat.v1 as tf\n",
        "import tensorflow_datasets as tfds\n",
        "import tensorflow_hub as hub"
      ],
      "execution_count": 8,
      "outputs": []
    },
    {
      "cell_type": "code",
      "metadata": {
        "id": "t7cWk5GZbACI"
      },
      "source": [
        "from __future__ import absolute_import\n",
        "from __future__ import division\n",
        "from __future__ import print_function"
      ],
      "execution_count": 9,
      "outputs": []
    },
    {
      "cell_type": "code",
      "metadata": {
        "id": "CIR5S3hPbEZz"
      },
      "source": [
        "import json\n",
        "import math\n",
        "import os"
      ],
      "execution_count": 10,
      "outputs": []
    },
    {
      "cell_type": "code",
      "metadata": {
        "id": "J8O3k8j9bGeH"
      },
      "source": [
        "import resnet\n",
        "import data as data_lib\n",
        "import model as model_lib\n",
        "import model_util as model_util"
      ],
      "execution_count": 11,
      "outputs": []
    },
    {
      "cell_type": "code",
      "metadata": {
        "colab": {
          "base_uri": "https://localhost:8080/",
          "height": 35
        },
        "id": "RsqVNBHRoodP",
        "outputId": "5d405057-6250-46c2-c6ab-eaf42b9161fe"
      },
      "source": [
        "tf.__version__"
      ],
      "execution_count": 15,
      "outputs": [
        {
          "output_type": "execute_result",
          "data": {
            "application/vnd.google.colaboratory.intrinsic+json": {
              "type": "string"
            },
            "text/plain": [
              "'2.7.0'"
            ]
          },
          "metadata": {},
          "execution_count": 15
        }
      ]
    },
    {
      "cell_type": "code",
      "metadata": {
        "id": "AoAXHAAdorJD"
      },
      "source": [
        "%load_ext tensorboard"
      ],
      "execution_count": 16,
      "outputs": []
    },
    {
      "cell_type": "code",
      "metadata": {
        "colab": {
          "base_uri": "https://localhost:8080/"
        },
        "id": "AXxOzH-f6Kgu",
        "outputId": "6ad0c48a-364a-4f1f-be6f-a299f43ad22a"
      },
      "source": [
        "!grep -r 'flags\\.FLAGS' ."
      ],
      "execution_count": 13,
      "outputs": [
        {
          "output_type": "stream",
          "name": "stdout",
          "text": [
            "./run.py:FLAGS = flags.FLAGS\r\n"
          ]
        }
      ]
    },
    {
      "cell_type": "code",
      "metadata": {
        "id": "sY8ncgUNotM_"
      },
      "source": [
        "from config import SIMCLR_GLOBAL_CONFIG"
      ],
      "execution_count": 12,
      "outputs": []
    },
    {
      "cell_type": "code",
      "metadata": {
        "id": "gevgmYyQotf_",
        "colab": {
          "base_uri": "https://localhost:8080/"
        },
        "outputId": "2e22f9d7-4045-4b4b-b10e-c2f50e95e02c"
      },
      "source": [
        "tf.disable_v2_behavior()  # Disable eager mode when running with TF2."
      ],
      "execution_count": 14,
      "outputs": [
        {
          "output_type": "stream",
          "name": "stdout",
          "text": [
            "WARNING:tensorflow:From /usr/local/lib/python3.7/dist-packages/tensorflow/python/compat/v2_compat.py:111: disable_resource_variables (from tensorflow.python.ops.variable_scope) is deprecated and will be removed in a future version.\n",
            "Instructions for updating:\n",
            "non-resource variables are not supported in the long term\n"
          ]
        }
      ]
    },
    {
      "cell_type": "code",
      "metadata": {
        "id": "K4g6Be_NotsF"
      },
      "source": [
        "def tf_hub_module(model, num_classes, global_step, checkpoint_path):\n",
        "  \"\"\"Create TF-Hub module.\"\"\"\n",
        "\n",
        "  tags_and_args = [\n",
        "      # The default graph is built with batch_norm, dropout etc. in inference\n",
        "      # mode. This graph version is good for inference, not training.\n",
        "      ([], {'is_training': False}),\n",
        "      # A separate \"train\" graph builds batch_norm, dropout etc. in training\n",
        "      # mode.\n",
        "      (['train'], {'is_training': True}),\n",
        "  ]\n",
        "\n",
        "  def module_fn(is_training):\n",
        "    \"\"\"Function that builds TF-Hub module.\"\"\"\n",
        "    endpoints = {}\n",
        "    inputs = tf.placeholder(\n",
        "        tf.float32, [None, None, None, 3])\n",
        "    with tf.variable_scope('base_model', reuse=tf.AUTO_REUSE):\n",
        "      hiddens = model(inputs, is_training)\n",
        "      for v in ['initial_conv', 'initial_max_pool', 'block_group1',\n",
        "                'block_group2', 'block_group3', 'block_group4',\n",
        "                'final_avg_pool']:\n",
        "        endpoints[v] = tf.get_default_graph().get_tensor_by_name(\n",
        "            'base_model/{}:0'.format(v))\n",
        "    if SIMCLR_GLOBAL_CONFIG[\"train_mode\"] == 'pretrain':\n",
        "      hiddens_proj = model_util.projection_head(hiddens, is_training)\n",
        "      endpoints['proj_head_input'] = hiddens\n",
        "      endpoints['proj_head_output'] = hiddens_proj\n",
        "    else:\n",
        "      logits_sup = model_util.supervised_head(\n",
        "          hiddens, num_classes, is_training)\n",
        "      endpoints['logits_sup'] = logits_sup\n",
        "    hub.add_signature(inputs=dict(images=inputs),\n",
        "                      outputs=dict(endpoints, default=hiddens))\n",
        "\n",
        "  # Drop the non-supported non-standard graph collection.\n",
        "  drop_collections = ['trainable_variables_inblock_%d'%d for d in range(6)]\n",
        "  spec = hub.create_module_spec(module_fn, tags_and_args, drop_collections)\n",
        "  hub_export_dir = os.path.join(SIMCLR_GLOBAL_CONFIG[\"model_dir\"], 'hub')\n",
        "  checkpoint_export_dir = os.path.join(hub_export_dir, str(global_step))\n",
        "  if tf.io.gfile.exists(checkpoint_export_dir):\n",
        "    # Do not save if checkpoint already saved.\n",
        "    tf.io.gfile.rmtree(checkpoint_export_dir)\n",
        "  spec.export(\n",
        "      checkpoint_export_dir,\n",
        "      checkpoint_path=checkpoint_path,\n",
        "      name_transform_fn=None)\n",
        "\n",
        "  if SIMCLR_GLOBAL_CONFIG[\"keep_hub_module_max\"] > 0:\n",
        "    # Delete old exported Hub modules.\n",
        "    exported_steps = []\n",
        "    for subdir in tf.io.gfile.listdir(hub_export_dir):\n",
        "      if not subdir.isdigit():\n",
        "        continue\n",
        "      exported_steps.append(int(subdir))\n",
        "    exported_steps.sort()\n",
        "    for step_to_delete in exported_steps[:-SIMCLR_GLOBAL_CONFIG[\"keep_hub_module_max\"]]:\n",
        "      tf.io.gfile.rmtree(os.path.join(hub_export_dir, str(step_to_delete)))"
      ],
      "execution_count": 15,
      "outputs": []
    },
    {
      "cell_type": "code",
      "metadata": {
        "id": "td8F4rYqotvK"
      },
      "source": [
        "def perform_evaluation(estimator, input_fn, eval_steps, model, num_classes,\n",
        "                       checkpoint_path=None):\n",
        "  \"\"\"Perform evaluation.\n",
        "\n",
        "  Args:\n",
        "    estimator: TPUEstimator instance.\n",
        "    input_fn: Input function for estimator.\n",
        "    eval_steps: Number of steps for evaluation.\n",
        "    model: Instance of transfer_learning.models.Model.\n",
        "    num_classes: Number of classes to build model for.\n",
        "    checkpoint_path: Path of checkpoint to evaluate.\n",
        "\n",
        "  Returns:\n",
        "    result: A Dict of metrics and their values.\n",
        "  \"\"\"\n",
        "  if not checkpoint_path:\n",
        "    checkpoint_path = estimator.latest_checkpoint()\n",
        "  result = estimator.evaluate(\n",
        "      input_fn, eval_steps, checkpoint_path=checkpoint_path,\n",
        "      name=SIMCLR_GLOBAL_CONFIG[\"eval_name\"])\n",
        "\n",
        "  # Record results as JSON.\n",
        "  result_json_path = os.path.join(SIMCLR_GLOBAL_CONFIG[\"model_dir\"], 'result.json')\n",
        "  with tf.io.gfile.GFile(result_json_path, 'w') as f:\n",
        "    json.dump({k: float(v) for k, v in result.items()}, f)\n",
        "  result_json_path = os.path.join(\n",
        "      SIMCLR_GLOBAL_CONFIG[\"model_dir\"], 'result_%d.json'%result['global_step'])\n",
        "  with tf.io.gfile.GFile(result_json_path, 'w') as f:\n",
        "    json.dump({k: float(v) for k, v in result.items()}, f)\n",
        "  flag_json_path = os.path.join(SIMCLR_GLOBAL_CONFIG[\"model_dir\"], 'json')\n",
        "  with tf.io.gfile.GFile(flag_json_path, 'w') as f:\n",
        "    json.dump(SIMCLR_GLOBAL_CONFIG, f)\n",
        "\n",
        "  # Save Hub module.\n",
        "  tf_hub_module(model, num_classes,\n",
        "                   global_step=result['global_step'],\n",
        "                   checkpoint_path=checkpoint_path)\n",
        "\n",
        "  return result\n",
        "\n"
      ],
      "execution_count": 16,
      "outputs": []
    },
    {
      "cell_type": "code",
      "metadata": {
        "id": "sMN6WJRmotxf"
      },
      "source": [
        "def main():\n",
        "  # Enable training summary.\n",
        "  if SIMCLR_GLOBAL_CONFIG[\"train_summary_steps\"] > 0:\n",
        "    tf.config.set_soft_device_placement(True)\n",
        "\n",
        "# pull using new TFDS template \n",
        "  builder = tfds.builder(SIMCLR_GLOBAL_CONFIG[\"dataset\"], data_dir=SIMCLR_GLOBAL_CONFIG[\"data_dir\"])\n",
        "\n",
        "  builder.download_and_prepare()\n",
        "  num_train_examples = builder.info.splits[SIMCLR_GLOBAL_CONFIG[\"train_split\"]].num_examples\n",
        "  num_eval_examples = builder.info.splits[SIMCLR_GLOBAL_CONFIG[\"eval_split\"]].num_examples\n",
        "  num_classes = builder.info.features['label'].num_classes\n",
        "  \n",
        "  # Training parameters\n",
        "  train_steps = model_util.get_train_steps(num_train_examples)\n",
        "  eval_steps = int(math.ceil(num_eval_examples / SIMCLR_GLOBAL_CONFIG[\"eval_batch_size\"]))\n",
        "  epoch_steps = int(round(num_train_examples / SIMCLR_GLOBAL_CONFIG[\"train_batch_size\"]))\n",
        "\n",
        "  # Create the model\n",
        "  resnet.BATCH_NORM_DECAY = SIMCLR_GLOBAL_CONFIG[\"batch_norm_decay\"]\n",
        "  model = resnet.resnet_v1(\n",
        "      resnet_depth=SIMCLR_GLOBAL_CONFIG[\"resnet_depth\"],\n",
        "      width_multiplier=SIMCLR_GLOBAL_CONFIG[\"width_multiplier\"],\n",
        "      cifar_stem=SIMCLR_GLOBAL_CONFIG[\"image_size\"] <= 32)\n",
        "  \n",
        "  # Set up checkpoint policy\n",
        "  checkpoint_steps = (\n",
        "      SIMCLR_GLOBAL_CONFIG[\"checkpoint_steps\"] or (SIMCLR_GLOBAL_CONFIG[\"checkpoint_epochs\"] * epoch_steps))\n",
        "  \n",
        "  # TPUEstimator also supports training on CPU and GPU. \n",
        "  # Set up TPU if use_tpu variable is set, else configure to use GPU\n",
        "  cluster = None\n",
        "  if SIMCLR_GLOBAL_CONFIG[\"use_tpu\"] and SIMCLR_GLOBAL_CONFIG[\"master\"] is None:\n",
        "    if SIMCLR_GLOBAL_CONFIG[\"tpu_name\"]:\n",
        "      cluster = tf.distribute.cluster_resolver.TPUClusterResolver(\n",
        "          SIMCLR_GLOBAL_CONFIG[\"tpu_name\"], zone=SIMCLR_GLOBAL_CONFIG[\"tpu_zone\"], project=SIMCLR_GLOBAL_CONFIG[\"gcp_project\"])\n",
        "    else:\n",
        "      cluster = tf.distribute.cluster_resolver.TPUClusterResolver()\n",
        "      tf.config.experimental_connect_to_cluster(cluster)\n",
        "      tf.tpu.experimental.initialize_tpu_system(cluster)\n",
        "  \n",
        "  # Set up eval modes to be split (TPU cluster) or single device (GPU)\n",
        "  default_eval_mode = tf.estimator.tpu.InputPipelineConfig.PER_HOST_V1\n",
        "  sliced_eval_mode = tf.estimator.tpu.InputPipelineConfig.SLICED\n",
        "\n",
        "  # Set up the training run configuration\n",
        "  run_config = tf.estimator.tpu.RunConfig(\n",
        "      tpu_config=tf.estimator.tpu.TPUConfig(\n",
        "          iterations_per_loop=checkpoint_steps,\n",
        "          eval_training_input_configuration=sliced_eval_mode\n",
        "          if SIMCLR_GLOBAL_CONFIG[\"use_tpu\"] else default_eval_mode),\n",
        "      model_dir=SIMCLR_GLOBAL_CONFIG[\"model_dir\"],\n",
        "      save_summary_steps=checkpoint_steps,\n",
        "      save_checkpoints_steps=checkpoint_steps,\n",
        "      keep_checkpoint_max=SIMCLR_GLOBAL_CONFIG[\"keep_checkpoint_max\"],\n",
        "      master=SIMCLR_GLOBAL_CONFIG[\"master\"],\n",
        "      cluster=cluster)\n",
        "  \n",
        "  # Set up the estimation configuration\n",
        "  estimator = tf.estimator.tpu.TPUEstimator(\n",
        "      model_lib.build_model_fn(model, num_classes, num_train_examples),\n",
        "      config=run_config,\n",
        "      train_batch_size=SIMCLR_GLOBAL_CONFIG[\"train_batch_size\"],\n",
        "      eval_batch_size=SIMCLR_GLOBAL_CONFIG[\"eval_batch_size\"],\n",
        "      use_tpu=SIMCLR_GLOBAL_CONFIG[\"use_tpu\"])\n",
        "\n",
        "  if SIMCLR_GLOBAL_CONFIG[\"mode\"] == 'eval':\n",
        "    for ckpt in tf.train.checkpoints_iterator(\n",
        "        run_config.model_dir, min_interval_secs=15):\n",
        "      try:\n",
        "        result = perform_evaluation(\n",
        "            estimator=estimator,\n",
        "            input_fn=data_lib.build_input_fn(builder, False),\n",
        "            eval_steps=eval_steps,\n",
        "            model=model,\n",
        "            num_classes=num_classes,\n",
        "            checkpoint_path=ckpt)\n",
        "      except tf.errors.NotFoundError:\n",
        "        print(\"TF Errors: NotFoundError caught\")\n",
        "        continue\n",
        "      if result['global_step'] >= train_steps:\n",
        "        return\n",
        "  else:\n",
        "    estimator.train(\n",
        "        data_lib.build_input_fn(builder, True), max_steps=train_steps)\n",
        "    if SIMCLR_GLOBAL_CONFIG[\"mode\"] == 'train_then_eval':\n",
        "      perform_evaluation(\n",
        "          estimator=estimator,\n",
        "          input_fn=data_lib.build_input_fn(builder, False),\n",
        "          eval_steps=eval_steps,\n",
        "          model=model,\n",
        "          num_classes=num_classes)"
      ],
      "execution_count": 17,
      "outputs": []
    },
    {
      "cell_type": "code",
      "metadata": {
        "id": "YJSOWdaPot0-",
        "colab": {
          "base_uri": "https://localhost:8080/",
          "height": 1000,
          "referenced_widgets": [
            "3c70957cd769420780afe308ba59f864",
            "98301a8d5a4d4fa6b554057fd4fb07e7",
            "f85da6de0909475db0fac1e155cab1b8",
            "e3b284ba8ba2426b96d3e4079fe96c1a",
            "1ea5297e1b0d40b5a26c438bacba53d5",
            "f13a99e2469544ca9cc86523868814b4",
            "ff4deffdf3ba4ff58a1be8dbaab042a9",
            "e39657dc642141dd98243915a97054ae",
            "aad6ad1bc4024401909ffa260e1512ec",
            "acc42cd4c9184789b5e36b7ca72d91fa",
            "9d15ba8128244f61adbd718b96852ec5",
            "49197a8f5e1840179f7beb2f6e752406",
            "d7ea8c9275564939946e2d9292d1c441",
            "ebb55a5e5ac74dd78cce66cdf4716b55",
            "7a16e6c517fa40348fabcef966865438",
            "008386d598f4481eb2242ca5d36b143f",
            "119624435d4c4d159de4a65bfe8d91e7",
            "f82306cba9df484a969b14403d6fee20",
            "aade4a0a8be046c496d5ea48543c1fa8",
            "414d96d940bd4236a12d96294f1bf675",
            "bc8b1b81cd5f402481fea53f303d1b9d",
            "17ce8cfa30dc4a8a810fa2623c7968bf",
            "d4f40e327b734cce99ec80576654a42a",
            "40ac8c9331054dd9b0e33412d8d194c0",
            "54b97130ce8248f1bf00dab74b63ced1",
            "32395c4db20e474bafcd328a5508edc8",
            "2dfe6e69e77f4aff9e3fc38747c9016f",
            "215e4725c8204357a8b026e64b0383aa",
            "6b3df1acd59547eba990f522296be572",
            "50282eeeeb304b3fb8816121396b81f4",
            "6c3816e8ec2047b99e87af47dca98241",
            "76158ba6f009452bb71067b5b608704a",
            "e0a89b8904f94c188592aa6175e3d3fb",
            "cf90ced1195747098f2d36c60bbdb780",
            "fc187b3623de46a9a0faa700621b4603",
            "d5185da27b9e4e32a8bfd74d1a21c01d",
            "4c9f85d474644e6986dfa91d7c0b1a2e",
            "fd6dd5dc59714b2694dcd0bd64ba3cf8",
            "a5b915769df344b2a8208e301181dcce",
            "d231b199d4034076948516bb2234cbf6",
            "aa4b4d8583af448d81efd0ae3b6d774e",
            "5f45b6a4389e484e93c777d21f5be5f6",
            "0315d0afab0941458a4fd3b5f687ea38",
            "aef2e03ec1de414ca2cd2135035629d1",
            "bf656f8116054734ac3b2727dde0bb94",
            "57095a41ccbb44efa89006a5bbd10a94",
            "f0dc861e19884335babd9446f94599c2",
            "89b448ad0c024b05bd525fbc96dd8c29",
            "1991a0b88cc740d8bf163b13803f4262",
            "e805192ff54043859ba3f3e8b5cc70a7",
            "50a640601579443086c66aca82ea2cdf",
            "fd7c0e820ee248c3b76b8791cdb37e06",
            "ee751e94086a44ad91d719afeea0b2a8",
            "014efcb954d04adaac892cf398723841",
            "c1ad567da92b414baf5fe428644cbfef"
          ]
        },
        "outputId": "358ee09c-ed85-44e6-d070-a258a456b48d"
      },
      "source": [
        "main()"
      ],
      "execution_count": 18,
      "outputs": [
        {
          "output_type": "stream",
          "name": "stdout",
          "text": [
            "\u001b[1mDownloading and preparing dataset plant_village/1.0.2 (download: 827.82 MiB, generated: 815.37 MiB, total: 1.60 GiB) to /root/tensorflow_datasets/plant_village/1.0.2...\u001b[0m\n"
          ]
        },
        {
          "output_type": "display_data",
          "data": {
            "application/vnd.jupyter.widget-view+json": {
              "model_id": "3c70957cd769420780afe308ba59f864",
              "version_minor": 0,
              "version_major": 2
            },
            "text/plain": [
              "Dl Completed...: 0 url [00:00, ? url/s]"
            ]
          },
          "metadata": {}
        },
        {
          "output_type": "display_data",
          "data": {
            "application/vnd.jupyter.widget-view+json": {
              "model_id": "49197a8f5e1840179f7beb2f6e752406",
              "version_minor": 0,
              "version_major": 2
            },
            "text/plain": [
              "Dl Size...: 0 MiB [00:00, ? MiB/s]"
            ]
          },
          "metadata": {}
        },
        {
          "output_type": "display_data",
          "data": {
            "application/vnd.jupyter.widget-view+json": {
              "model_id": "d4f40e327b734cce99ec80576654a42a",
              "version_minor": 0,
              "version_major": 2
            },
            "text/plain": [
              "Extraction completed...: 0 file [00:00, ? file/s]"
            ]
          },
          "metadata": {}
        },
        {
          "output_type": "stream",
          "name": "stdout",
          "text": [
            "\n",
            "\n",
            "\n"
          ]
        },
        {
          "output_type": "display_data",
          "data": {
            "application/vnd.jupyter.widget-view+json": {
              "model_id": "cf90ced1195747098f2d36c60bbdb780",
              "version_minor": 0,
              "version_major": 2
            },
            "text/plain": [
              "0 examples [00:00, ? examples/s]"
            ]
          },
          "metadata": {}
        },
        {
          "output_type": "stream",
          "name": "stdout",
          "text": [
            "Shuffling and writing examples to /root/tensorflow_datasets/plant_village/1.0.2.incompleteAHFUAQ/plant_village-train.tfrecord\n"
          ]
        },
        {
          "output_type": "display_data",
          "data": {
            "application/vnd.jupyter.widget-view+json": {
              "model_id": "bf656f8116054734ac3b2727dde0bb94",
              "version_minor": 0,
              "version_major": 2
            },
            "text/plain": [
              "  0%|          | 0/54303 [00:00<?, ? examples/s]"
            ]
          },
          "metadata": {}
        },
        {
          "output_type": "stream",
          "name": "stdout",
          "text": [
            "\u001b[1mDataset plant_village downloaded and prepared to /root/tensorflow_datasets/plant_village/1.0.2. Subsequent calls will reuse this data.\u001b[0m\n",
            "WARNING:tensorflow:Estimator's model_fn (<function build_model_fn.<locals>.model_fn at 0x7f25c9152cb0>) includes params argument, but params are not passed to Estimator.\n"
          ]
        },
        {
          "output_type": "stream",
          "name": "stderr",
          "text": [
            "WARNING:tensorflow:Estimator's model_fn (<function build_model_fn.<locals>.model_fn at 0x7f25c9152cb0>) includes params argument, but params are not passed to Estimator.\n"
          ]
        },
        {
          "output_type": "stream",
          "name": "stdout",
          "text": [
            "INFO:tensorflow:Using config: {'_model_dir': './checkpoints', '_tf_random_seed': None, '_save_summary_steps': 339, '_save_checkpoints_steps': 339, '_save_checkpoints_secs': None, '_session_config': allow_soft_placement: true\n",
            "graph_options {\n",
            "  rewrite_options {\n",
            "    meta_optimizer_iterations: ONE\n",
            "  }\n",
            "}\n",
            ", '_keep_checkpoint_max': 5, '_keep_checkpoint_every_n_hours': 10000, '_log_step_count_steps': None, '_train_distribute': None, '_device_fn': None, '_protocol': None, '_eval_distribute': None, '_experimental_distribute': None, '_experimental_max_worker_delay_secs': None, '_session_creation_timeout_secs': 7200, '_checkpoint_save_graph_def': True, '_service': None, '_cluster_spec': ClusterSpec({}), '_task_type': 'worker', '_task_id': 0, '_global_id_in_cluster': 0, '_master': '', '_evaluation_master': '', '_is_chief': True, '_num_ps_replicas': 0, '_num_worker_replicas': 1, '_tpu_config': TPUConfig(iterations_per_loop=339, num_shards=None, num_cores_per_replica=None, per_host_input_for_training=2, tpu_job_name=None, initial_infeed_sleep_secs=None, input_partition_dims=None, eval_training_input_configuration=2, experimental_host_call_every_n_steps=1, experimental_allow_per_host_v2_parallel_get_next=False, experimental_feed_hook=None), '_cluster': None}\n"
          ]
        },
        {
          "output_type": "stream",
          "name": "stderr",
          "text": [
            "INFO:tensorflow:Using config: {'_model_dir': './checkpoints', '_tf_random_seed': None, '_save_summary_steps': 339, '_save_checkpoints_steps': 339, '_save_checkpoints_secs': None, '_session_config': allow_soft_placement: true\n",
            "graph_options {\n",
            "  rewrite_options {\n",
            "    meta_optimizer_iterations: ONE\n",
            "  }\n",
            "}\n",
            ", '_keep_checkpoint_max': 5, '_keep_checkpoint_every_n_hours': 10000, '_log_step_count_steps': None, '_train_distribute': None, '_device_fn': None, '_protocol': None, '_eval_distribute': None, '_experimental_distribute': None, '_experimental_max_worker_delay_secs': None, '_session_creation_timeout_secs': 7200, '_checkpoint_save_graph_def': True, '_service': None, '_cluster_spec': ClusterSpec({}), '_task_type': 'worker', '_task_id': 0, '_global_id_in_cluster': 0, '_master': '', '_evaluation_master': '', '_is_chief': True, '_num_ps_replicas': 0, '_num_worker_replicas': 1, '_tpu_config': TPUConfig(iterations_per_loop=339, num_shards=None, num_cores_per_replica=None, per_host_input_for_training=2, tpu_job_name=None, initial_infeed_sleep_secs=None, input_partition_dims=None, eval_training_input_configuration=2, experimental_host_call_every_n_steps=1, experimental_allow_per_host_v2_parallel_get_next=False, experimental_feed_hook=None), '_cluster': None}\n"
          ]
        },
        {
          "output_type": "stream",
          "name": "stdout",
          "text": [
            "INFO:tensorflow:_TPUContext: eval_on_tpu True\n"
          ]
        },
        {
          "output_type": "stream",
          "name": "stderr",
          "text": [
            "INFO:tensorflow:_TPUContext: eval_on_tpu True\n"
          ]
        },
        {
          "output_type": "stream",
          "name": "stdout",
          "text": [
            "WARNING:tensorflow:eval_on_tpu ignored because use_tpu is False.\n"
          ]
        },
        {
          "output_type": "stream",
          "name": "stderr",
          "text": [
            "WARNING:tensorflow:eval_on_tpu ignored because use_tpu is False.\n"
          ]
        },
        {
          "output_type": "stream",
          "name": "stdout",
          "text": [
            "INFO:tensorflow:Skipping training since max_steps has already saved.\n"
          ]
        },
        {
          "output_type": "stream",
          "name": "stderr",
          "text": [
            "INFO:tensorflow:Skipping training since max_steps has already saved.\n"
          ]
        },
        {
          "output_type": "stream",
          "name": "stdout",
          "text": [
            "INFO:tensorflow:training_loop marked as finished\n"
          ]
        },
        {
          "output_type": "stream",
          "name": "stderr",
          "text": [
            "INFO:tensorflow:training_loop marked as finished\n"
          ]
        },
        {
          "output_type": "stream",
          "name": "stdout",
          "text": [
            "INFO:tensorflow:Calling model_fn.\n"
          ]
        },
        {
          "output_type": "stream",
          "name": "stderr",
          "text": [
            "INFO:tensorflow:Calling model_fn.\n"
          ]
        },
        {
          "output_type": "stream",
          "name": "stdout",
          "text": [
            "INFO:tensorflow:Running eval on CPU/GPU\n"
          ]
        },
        {
          "output_type": "stream",
          "name": "stderr",
          "text": [
            "INFO:tensorflow:Running eval on CPU/GPU\n",
            "/content/drive/Shareddrives/297_project/simclrv2/resnet.py:278: UserWarning: `tf.layers.conv2d` is deprecated and will be removed in a future version. Please Use `tf.keras.layers.Conv2D` instead.\n",
            "  data_format=data_format)\n",
            "/usr/local/lib/python3.7/dist-packages/keras/legacy_tf_layers/convolutional.py:563: UserWarning: `layer.apply` is deprecated and will be removed in a future version. Please use `layer.__call__` method instead.\n",
            "  return layer.apply(inputs)\n",
            "/content/drive/Shareddrives/297_project/simclrv2/resnet.py:597: UserWarning: `tf.layers.max_pooling2d` is deprecated and will be removed in a future version. Please use `tf.keras.layers.MaxPooling2D` instead.\n",
            "  data_format=data_format)\n",
            "/usr/local/lib/python3.7/dist-packages/keras/legacy_tf_layers/pooling.py:568: UserWarning: `layer.apply` is deprecated and will be removed in a future version. Please use `layer.__call__` method instead.\n",
            "  return layer.apply(inputs)\n",
            "/content/drive/Shareddrives/297_project/simclrv2/model_util.py:134: UserWarning: `tf.layers.dense` is deprecated and will be removed in a future version. Please use `tf.keras.layers.Dense` instead.\n",
            "  kernel_initializer=tf.random_normal_initializer(stddev=.01))\n",
            "/usr/local/lib/python3.7/dist-packages/keras/legacy_tf_layers/core.py:255: UserWarning: `layer.apply` is deprecated and will be removed in a future version. Please use `layer.__call__` method instead.\n",
            "  return layer.apply(inputs)\n"
          ]
        },
        {
          "output_type": "stream",
          "name": "stdout",
          "text": [
            "INFO:tensorflow:===============Variables to train (begin)===============\n"
          ]
        },
        {
          "output_type": "stream",
          "name": "stderr",
          "text": [
            "INFO:tensorflow:===============Variables to train (begin)===============\n"
          ]
        },
        {
          "output_type": "stream",
          "name": "stdout",
          "text": [
            "INFO:tensorflow:[<tf.Variable 'base_model/conv2d/kernel:0' shape=(7, 7, 3, 64) dtype=float32_ref>, <tf.Variable 'base_model/batch_normalization/gamma:0' shape=(64,) dtype=float32_ref>, <tf.Variable 'base_model/batch_normalization/beta:0' shape=(64,) dtype=float32_ref>, <tf.Variable 'base_model/conv2d_1/kernel:0' shape=(1, 1, 64, 64) dtype=float32_ref>, <tf.Variable 'base_model/batch_normalization_1/gamma:0' shape=(64,) dtype=float32_ref>, <tf.Variable 'base_model/batch_normalization_1/beta:0' shape=(64,) dtype=float32_ref>, <tf.Variable 'base_model/conv2d_2/kernel:0' shape=(3, 3, 64, 64) dtype=float32_ref>, <tf.Variable 'base_model/batch_normalization_2/gamma:0' shape=(64,) dtype=float32_ref>, <tf.Variable 'base_model/batch_normalization_2/beta:0' shape=(64,) dtype=float32_ref>, <tf.Variable 'base_model/conv2d_3/kernel:0' shape=(3, 3, 64, 64) dtype=float32_ref>, <tf.Variable 'base_model/batch_normalization_3/gamma:0' shape=(64,) dtype=float32_ref>, <tf.Variable 'base_model/batch_normalization_3/beta:0' shape=(64,) dtype=float32_ref>, <tf.Variable 'base_model/conv2d_4/kernel:0' shape=(3, 3, 64, 64) dtype=float32_ref>, <tf.Variable 'base_model/batch_normalization_4/gamma:0' shape=(64,) dtype=float32_ref>, <tf.Variable 'base_model/batch_normalization_4/beta:0' shape=(64,) dtype=float32_ref>, <tf.Variable 'base_model/conv2d_5/kernel:0' shape=(3, 3, 64, 64) dtype=float32_ref>, <tf.Variable 'base_model/batch_normalization_5/gamma:0' shape=(64,) dtype=float32_ref>, <tf.Variable 'base_model/batch_normalization_5/beta:0' shape=(64,) dtype=float32_ref>, <tf.Variable 'base_model/conv2d_6/kernel:0' shape=(1, 1, 64, 128) dtype=float32_ref>, <tf.Variable 'base_model/batch_normalization_6/gamma:0' shape=(128,) dtype=float32_ref>, <tf.Variable 'base_model/batch_normalization_6/beta:0' shape=(128,) dtype=float32_ref>, <tf.Variable 'base_model/conv2d_7/kernel:0' shape=(3, 3, 64, 128) dtype=float32_ref>, <tf.Variable 'base_model/batch_normalization_7/gamma:0' shape=(128,) dtype=float32_ref>, <tf.Variable 'base_model/batch_normalization_7/beta:0' shape=(128,) dtype=float32_ref>, <tf.Variable 'base_model/conv2d_8/kernel:0' shape=(3, 3, 128, 128) dtype=float32_ref>, <tf.Variable 'base_model/batch_normalization_8/gamma:0' shape=(128,) dtype=float32_ref>, <tf.Variable 'base_model/batch_normalization_8/beta:0' shape=(128,) dtype=float32_ref>, <tf.Variable 'base_model/conv2d_9/kernel:0' shape=(3, 3, 128, 128) dtype=float32_ref>, <tf.Variable 'base_model/batch_normalization_9/gamma:0' shape=(128,) dtype=float32_ref>, <tf.Variable 'base_model/batch_normalization_9/beta:0' shape=(128,) dtype=float32_ref>, <tf.Variable 'base_model/conv2d_10/kernel:0' shape=(3, 3, 128, 128) dtype=float32_ref>, <tf.Variable 'base_model/batch_normalization_10/gamma:0' shape=(128,) dtype=float32_ref>, <tf.Variable 'base_model/batch_normalization_10/beta:0' shape=(128,) dtype=float32_ref>, <tf.Variable 'base_model/conv2d_11/kernel:0' shape=(1, 1, 128, 256) dtype=float32_ref>, <tf.Variable 'base_model/batch_normalization_11/gamma:0' shape=(256,) dtype=float32_ref>, <tf.Variable 'base_model/batch_normalization_11/beta:0' shape=(256,) dtype=float32_ref>, <tf.Variable 'base_model/conv2d_12/kernel:0' shape=(3, 3, 128, 256) dtype=float32_ref>, <tf.Variable 'base_model/batch_normalization_12/gamma:0' shape=(256,) dtype=float32_ref>, <tf.Variable 'base_model/batch_normalization_12/beta:0' shape=(256,) dtype=float32_ref>, <tf.Variable 'base_model/conv2d_13/kernel:0' shape=(3, 3, 256, 256) dtype=float32_ref>, <tf.Variable 'base_model/batch_normalization_13/gamma:0' shape=(256,) dtype=float32_ref>, <tf.Variable 'base_model/batch_normalization_13/beta:0' shape=(256,) dtype=float32_ref>, <tf.Variable 'base_model/conv2d_14/kernel:0' shape=(3, 3, 256, 256) dtype=float32_ref>, <tf.Variable 'base_model/batch_normalization_14/gamma:0' shape=(256,) dtype=float32_ref>, <tf.Variable 'base_model/batch_normalization_14/beta:0' shape=(256,) dtype=float32_ref>, <tf.Variable 'base_model/conv2d_15/kernel:0' shape=(3, 3, 256, 256) dtype=float32_ref>, <tf.Variable 'base_model/batch_normalization_15/gamma:0' shape=(256,) dtype=float32_ref>, <tf.Variable 'base_model/batch_normalization_15/beta:0' shape=(256,) dtype=float32_ref>, <tf.Variable 'base_model/conv2d_16/kernel:0' shape=(1, 1, 256, 512) dtype=float32_ref>, <tf.Variable 'base_model/batch_normalization_16/gamma:0' shape=(512,) dtype=float32_ref>, <tf.Variable 'base_model/batch_normalization_16/beta:0' shape=(512,) dtype=float32_ref>, <tf.Variable 'base_model/conv2d_17/kernel:0' shape=(3, 3, 256, 512) dtype=float32_ref>, <tf.Variable 'base_model/batch_normalization_17/gamma:0' shape=(512,) dtype=float32_ref>, <tf.Variable 'base_model/batch_normalization_17/beta:0' shape=(512,) dtype=float32_ref>, <tf.Variable 'base_model/conv2d_18/kernel:0' shape=(3, 3, 512, 512) dtype=float32_ref>, <tf.Variable 'base_model/batch_normalization_18/gamma:0' shape=(512,) dtype=float32_ref>, <tf.Variable 'base_model/batch_normalization_18/beta:0' shape=(512,) dtype=float32_ref>, <tf.Variable 'base_model/conv2d_19/kernel:0' shape=(3, 3, 512, 512) dtype=float32_ref>, <tf.Variable 'base_model/batch_normalization_19/gamma:0' shape=(512,) dtype=float32_ref>, <tf.Variable 'base_model/batch_normalization_19/beta:0' shape=(512,) dtype=float32_ref>, <tf.Variable 'base_model/conv2d_20/kernel:0' shape=(3, 3, 512, 512) dtype=float32_ref>, <tf.Variable 'base_model/batch_normalization_20/gamma:0' shape=(512,) dtype=float32_ref>, <tf.Variable 'base_model/batch_normalization_20/beta:0' shape=(512,) dtype=float32_ref>, <tf.Variable 'head_contrastive/nl_0/dense/kernel:0' shape=(512, 512) dtype=float32_ref>, <tf.Variable 'head_contrastive/nl_0/batch_normalization/gamma:0' shape=(512,) dtype=float32_ref>, <tf.Variable 'head_contrastive/nl_0/batch_normalization/beta:0' shape=(512,) dtype=float32_ref>, <tf.Variable 'head_contrastive/nl_1/dense/kernel:0' shape=(512, 512) dtype=float32_ref>, <tf.Variable 'head_contrastive/nl_1/batch_normalization/gamma:0' shape=(512,) dtype=float32_ref>, <tf.Variable 'head_contrastive/nl_1/batch_normalization/beta:0' shape=(512,) dtype=float32_ref>, <tf.Variable 'head_contrastive/nl_2/dense/kernel:0' shape=(512, 128) dtype=float32_ref>, <tf.Variable 'head_contrastive/nl_2/batch_normalization/gamma:0' shape=(128,) dtype=float32_ref>]\n"
          ]
        },
        {
          "output_type": "stream",
          "name": "stderr",
          "text": [
            "INFO:tensorflow:[<tf.Variable 'base_model/conv2d/kernel:0' shape=(7, 7, 3, 64) dtype=float32_ref>, <tf.Variable 'base_model/batch_normalization/gamma:0' shape=(64,) dtype=float32_ref>, <tf.Variable 'base_model/batch_normalization/beta:0' shape=(64,) dtype=float32_ref>, <tf.Variable 'base_model/conv2d_1/kernel:0' shape=(1, 1, 64, 64) dtype=float32_ref>, <tf.Variable 'base_model/batch_normalization_1/gamma:0' shape=(64,) dtype=float32_ref>, <tf.Variable 'base_model/batch_normalization_1/beta:0' shape=(64,) dtype=float32_ref>, <tf.Variable 'base_model/conv2d_2/kernel:0' shape=(3, 3, 64, 64) dtype=float32_ref>, <tf.Variable 'base_model/batch_normalization_2/gamma:0' shape=(64,) dtype=float32_ref>, <tf.Variable 'base_model/batch_normalization_2/beta:0' shape=(64,) dtype=float32_ref>, <tf.Variable 'base_model/conv2d_3/kernel:0' shape=(3, 3, 64, 64) dtype=float32_ref>, <tf.Variable 'base_model/batch_normalization_3/gamma:0' shape=(64,) dtype=float32_ref>, <tf.Variable 'base_model/batch_normalization_3/beta:0' shape=(64,) dtype=float32_ref>, <tf.Variable 'base_model/conv2d_4/kernel:0' shape=(3, 3, 64, 64) dtype=float32_ref>, <tf.Variable 'base_model/batch_normalization_4/gamma:0' shape=(64,) dtype=float32_ref>, <tf.Variable 'base_model/batch_normalization_4/beta:0' shape=(64,) dtype=float32_ref>, <tf.Variable 'base_model/conv2d_5/kernel:0' shape=(3, 3, 64, 64) dtype=float32_ref>, <tf.Variable 'base_model/batch_normalization_5/gamma:0' shape=(64,) dtype=float32_ref>, <tf.Variable 'base_model/batch_normalization_5/beta:0' shape=(64,) dtype=float32_ref>, <tf.Variable 'base_model/conv2d_6/kernel:0' shape=(1, 1, 64, 128) dtype=float32_ref>, <tf.Variable 'base_model/batch_normalization_6/gamma:0' shape=(128,) dtype=float32_ref>, <tf.Variable 'base_model/batch_normalization_6/beta:0' shape=(128,) dtype=float32_ref>, <tf.Variable 'base_model/conv2d_7/kernel:0' shape=(3, 3, 64, 128) dtype=float32_ref>, <tf.Variable 'base_model/batch_normalization_7/gamma:0' shape=(128,) dtype=float32_ref>, <tf.Variable 'base_model/batch_normalization_7/beta:0' shape=(128,) dtype=float32_ref>, <tf.Variable 'base_model/conv2d_8/kernel:0' shape=(3, 3, 128, 128) dtype=float32_ref>, <tf.Variable 'base_model/batch_normalization_8/gamma:0' shape=(128,) dtype=float32_ref>, <tf.Variable 'base_model/batch_normalization_8/beta:0' shape=(128,) dtype=float32_ref>, <tf.Variable 'base_model/conv2d_9/kernel:0' shape=(3, 3, 128, 128) dtype=float32_ref>, <tf.Variable 'base_model/batch_normalization_9/gamma:0' shape=(128,) dtype=float32_ref>, <tf.Variable 'base_model/batch_normalization_9/beta:0' shape=(128,) dtype=float32_ref>, <tf.Variable 'base_model/conv2d_10/kernel:0' shape=(3, 3, 128, 128) dtype=float32_ref>, <tf.Variable 'base_model/batch_normalization_10/gamma:0' shape=(128,) dtype=float32_ref>, <tf.Variable 'base_model/batch_normalization_10/beta:0' shape=(128,) dtype=float32_ref>, <tf.Variable 'base_model/conv2d_11/kernel:0' shape=(1, 1, 128, 256) dtype=float32_ref>, <tf.Variable 'base_model/batch_normalization_11/gamma:0' shape=(256,) dtype=float32_ref>, <tf.Variable 'base_model/batch_normalization_11/beta:0' shape=(256,) dtype=float32_ref>, <tf.Variable 'base_model/conv2d_12/kernel:0' shape=(3, 3, 128, 256) dtype=float32_ref>, <tf.Variable 'base_model/batch_normalization_12/gamma:0' shape=(256,) dtype=float32_ref>, <tf.Variable 'base_model/batch_normalization_12/beta:0' shape=(256,) dtype=float32_ref>, <tf.Variable 'base_model/conv2d_13/kernel:0' shape=(3, 3, 256, 256) dtype=float32_ref>, <tf.Variable 'base_model/batch_normalization_13/gamma:0' shape=(256,) dtype=float32_ref>, <tf.Variable 'base_model/batch_normalization_13/beta:0' shape=(256,) dtype=float32_ref>, <tf.Variable 'base_model/conv2d_14/kernel:0' shape=(3, 3, 256, 256) dtype=float32_ref>, <tf.Variable 'base_model/batch_normalization_14/gamma:0' shape=(256,) dtype=float32_ref>, <tf.Variable 'base_model/batch_normalization_14/beta:0' shape=(256,) dtype=float32_ref>, <tf.Variable 'base_model/conv2d_15/kernel:0' shape=(3, 3, 256, 256) dtype=float32_ref>, <tf.Variable 'base_model/batch_normalization_15/gamma:0' shape=(256,) dtype=float32_ref>, <tf.Variable 'base_model/batch_normalization_15/beta:0' shape=(256,) dtype=float32_ref>, <tf.Variable 'base_model/conv2d_16/kernel:0' shape=(1, 1, 256, 512) dtype=float32_ref>, <tf.Variable 'base_model/batch_normalization_16/gamma:0' shape=(512,) dtype=float32_ref>, <tf.Variable 'base_model/batch_normalization_16/beta:0' shape=(512,) dtype=float32_ref>, <tf.Variable 'base_model/conv2d_17/kernel:0' shape=(3, 3, 256, 512) dtype=float32_ref>, <tf.Variable 'base_model/batch_normalization_17/gamma:0' shape=(512,) dtype=float32_ref>, <tf.Variable 'base_model/batch_normalization_17/beta:0' shape=(512,) dtype=float32_ref>, <tf.Variable 'base_model/conv2d_18/kernel:0' shape=(3, 3, 512, 512) dtype=float32_ref>, <tf.Variable 'base_model/batch_normalization_18/gamma:0' shape=(512,) dtype=float32_ref>, <tf.Variable 'base_model/batch_normalization_18/beta:0' shape=(512,) dtype=float32_ref>, <tf.Variable 'base_model/conv2d_19/kernel:0' shape=(3, 3, 512, 512) dtype=float32_ref>, <tf.Variable 'base_model/batch_normalization_19/gamma:0' shape=(512,) dtype=float32_ref>, <tf.Variable 'base_model/batch_normalization_19/beta:0' shape=(512,) dtype=float32_ref>, <tf.Variable 'base_model/conv2d_20/kernel:0' shape=(3, 3, 512, 512) dtype=float32_ref>, <tf.Variable 'base_model/batch_normalization_20/gamma:0' shape=(512,) dtype=float32_ref>, <tf.Variable 'base_model/batch_normalization_20/beta:0' shape=(512,) dtype=float32_ref>, <tf.Variable 'head_contrastive/nl_0/dense/kernel:0' shape=(512, 512) dtype=float32_ref>, <tf.Variable 'head_contrastive/nl_0/batch_normalization/gamma:0' shape=(512,) dtype=float32_ref>, <tf.Variable 'head_contrastive/nl_0/batch_normalization/beta:0' shape=(512,) dtype=float32_ref>, <tf.Variable 'head_contrastive/nl_1/dense/kernel:0' shape=(512, 512) dtype=float32_ref>, <tf.Variable 'head_contrastive/nl_1/batch_normalization/gamma:0' shape=(512,) dtype=float32_ref>, <tf.Variable 'head_contrastive/nl_1/batch_normalization/beta:0' shape=(512,) dtype=float32_ref>, <tf.Variable 'head_contrastive/nl_2/dense/kernel:0' shape=(512, 128) dtype=float32_ref>, <tf.Variable 'head_contrastive/nl_2/batch_normalization/gamma:0' shape=(128,) dtype=float32_ref>]\n"
          ]
        },
        {
          "output_type": "stream",
          "name": "stdout",
          "text": [
            "INFO:tensorflow:================Variables to train (end)================\n"
          ]
        },
        {
          "output_type": "stream",
          "name": "stderr",
          "text": [
            "INFO:tensorflow:================Variables to train (end)================\n"
          ]
        },
        {
          "output_type": "stream",
          "name": "stdout",
          "text": [
            "WARNING:tensorflow:From /content/drive/Shareddrives/297_project/simclrv2/model_util.py:72: to_float (from tensorflow.python.ops.math_ops) is deprecated and will be removed in a future version.\n",
            "Instructions for updating:\n",
            "Use `tf.cast` instead.\n"
          ]
        },
        {
          "output_type": "stream",
          "name": "stderr",
          "text": [
            "WARNING:tensorflow:From /content/drive/Shareddrives/297_project/simclrv2/model_util.py:72: to_float (from tensorflow.python.ops.math_ops) is deprecated and will be removed in a future version.\n",
            "Instructions for updating:\n",
            "Use `tf.cast` instead.\n"
          ]
        },
        {
          "output_type": "stream",
          "name": "stdout",
          "text": [
            "WARNING:tensorflow:From /content/drive/Shareddrives/297_project/simclrv2/model.py:218: The name tf.estimator.tpu.TPUEstimatorSpec is deprecated. Please use tf.compat.v1.estimator.tpu.TPUEstimatorSpec instead.\n",
            "\n"
          ]
        },
        {
          "output_type": "stream",
          "name": "stderr",
          "text": [
            "WARNING:tensorflow:From /content/drive/Shareddrives/297_project/simclrv2/model.py:218: The name tf.estimator.tpu.TPUEstimatorSpec is deprecated. Please use tf.compat.v1.estimator.tpu.TPUEstimatorSpec instead.\n",
            "\n"
          ]
        },
        {
          "output_type": "stream",
          "name": "stdout",
          "text": [
            "INFO:tensorflow:Done calling model_fn.\n"
          ]
        },
        {
          "output_type": "stream",
          "name": "stderr",
          "text": [
            "INFO:tensorflow:Done calling model_fn.\n"
          ]
        },
        {
          "output_type": "stream",
          "name": "stdout",
          "text": [
            "INFO:tensorflow:Starting evaluation at 2021-11-30T21:13:38\n"
          ]
        },
        {
          "output_type": "stream",
          "name": "stderr",
          "text": [
            "INFO:tensorflow:Starting evaluation at 2021-11-30T21:13:38\n"
          ]
        },
        {
          "output_type": "stream",
          "name": "stdout",
          "text": [
            "INFO:tensorflow:Graph was finalized.\n"
          ]
        },
        {
          "output_type": "stream",
          "name": "stderr",
          "text": [
            "INFO:tensorflow:Graph was finalized.\n"
          ]
        },
        {
          "output_type": "stream",
          "name": "stdout",
          "text": [
            "INFO:tensorflow:Restoring parameters from ./checkpoints/model.ckpt-3394\n"
          ]
        },
        {
          "output_type": "stream",
          "name": "stderr",
          "text": [
            "INFO:tensorflow:Restoring parameters from ./checkpoints/model.ckpt-3394\n"
          ]
        },
        {
          "output_type": "stream",
          "name": "stdout",
          "text": [
            "INFO:tensorflow:Running local_init_op.\n"
          ]
        },
        {
          "output_type": "stream",
          "name": "stderr",
          "text": [
            "INFO:tensorflow:Running local_init_op.\n"
          ]
        },
        {
          "output_type": "stream",
          "name": "stdout",
          "text": [
            "INFO:tensorflow:Done running local_init_op.\n"
          ]
        },
        {
          "output_type": "stream",
          "name": "stderr",
          "text": [
            "INFO:tensorflow:Done running local_init_op.\n"
          ]
        },
        {
          "output_type": "stream",
          "name": "stdout",
          "text": [
            "INFO:tensorflow:Evaluation [8/81]\n"
          ]
        },
        {
          "output_type": "stream",
          "name": "stderr",
          "text": [
            "INFO:tensorflow:Evaluation [8/81]\n"
          ]
        },
        {
          "output_type": "stream",
          "name": "stdout",
          "text": [
            "INFO:tensorflow:Evaluation [16/81]\n"
          ]
        },
        {
          "output_type": "stream",
          "name": "stderr",
          "text": [
            "INFO:tensorflow:Evaluation [16/81]\n"
          ]
        },
        {
          "output_type": "stream",
          "name": "stdout",
          "text": [
            "INFO:tensorflow:Evaluation [24/81]\n"
          ]
        },
        {
          "output_type": "stream",
          "name": "stderr",
          "text": [
            "INFO:tensorflow:Evaluation [24/81]\n"
          ]
        },
        {
          "output_type": "stream",
          "name": "stdout",
          "text": [
            "INFO:tensorflow:Evaluation [32/81]\n"
          ]
        },
        {
          "output_type": "stream",
          "name": "stderr",
          "text": [
            "INFO:tensorflow:Evaluation [32/81]\n"
          ]
        },
        {
          "output_type": "stream",
          "name": "stdout",
          "text": [
            "INFO:tensorflow:Evaluation [40/81]\n"
          ]
        },
        {
          "output_type": "stream",
          "name": "stderr",
          "text": [
            "INFO:tensorflow:Evaluation [40/81]\n"
          ]
        },
        {
          "output_type": "stream",
          "name": "stdout",
          "text": [
            "INFO:tensorflow:Evaluation [48/81]\n"
          ]
        },
        {
          "output_type": "stream",
          "name": "stderr",
          "text": [
            "INFO:tensorflow:Evaluation [48/81]\n"
          ]
        },
        {
          "output_type": "stream",
          "name": "stdout",
          "text": [
            "INFO:tensorflow:Evaluation [56/81]\n"
          ]
        },
        {
          "output_type": "stream",
          "name": "stderr",
          "text": [
            "INFO:tensorflow:Evaluation [56/81]\n"
          ]
        },
        {
          "output_type": "stream",
          "name": "stdout",
          "text": [
            "INFO:tensorflow:Evaluation [64/81]\n"
          ]
        },
        {
          "output_type": "stream",
          "name": "stderr",
          "text": [
            "INFO:tensorflow:Evaluation [64/81]\n"
          ]
        },
        {
          "output_type": "stream",
          "name": "stdout",
          "text": [
            "INFO:tensorflow:Evaluation [72/81]\n"
          ]
        },
        {
          "output_type": "stream",
          "name": "stderr",
          "text": [
            "INFO:tensorflow:Evaluation [72/81]\n"
          ]
        },
        {
          "output_type": "stream",
          "name": "stdout",
          "text": [
            "INFO:tensorflow:Evaluation [80/81]\n"
          ]
        },
        {
          "output_type": "stream",
          "name": "stderr",
          "text": [
            "INFO:tensorflow:Evaluation [80/81]\n"
          ]
        },
        {
          "output_type": "stream",
          "name": "stdout",
          "text": [
            "INFO:tensorflow:Evaluation [81/81]\n"
          ]
        },
        {
          "output_type": "stream",
          "name": "stderr",
          "text": [
            "INFO:tensorflow:Evaluation [81/81]\n"
          ]
        },
        {
          "output_type": "stream",
          "name": "stdout",
          "text": [
            "INFO:tensorflow:Inference Time : 55.11249s\n"
          ]
        },
        {
          "output_type": "stream",
          "name": "stderr",
          "text": [
            "INFO:tensorflow:Inference Time : 55.11249s\n"
          ]
        },
        {
          "output_type": "stream",
          "name": "stdout",
          "text": [
            "INFO:tensorflow:Finished evaluation at 2021-11-30-21:14:33\n"
          ]
        },
        {
          "output_type": "stream",
          "name": "stderr",
          "text": [
            "INFO:tensorflow:Finished evaluation at 2021-11-30-21:14:33\n"
          ]
        },
        {
          "output_type": "stream",
          "name": "stdout",
          "text": [
            "INFO:tensorflow:Saving dict for global step 3394: contrast_loss = 10.853484, contrastive_top_1_accuracy = 1.0, contrastive_top_5_accuracy = 1.0, global_step = 3394, label_top_1_accuracy = 1.0, label_top_5_accuracy = 1.0, loss = 11.594338, regularization_loss = 0.74331665\n"
          ]
        },
        {
          "output_type": "stream",
          "name": "stderr",
          "text": [
            "INFO:tensorflow:Saving dict for global step 3394: contrast_loss = 10.853484, contrastive_top_1_accuracy = 1.0, contrastive_top_5_accuracy = 1.0, global_step = 3394, label_top_1_accuracy = 1.0, label_top_5_accuracy = 1.0, loss = 11.594338, regularization_loss = 0.74331665\n"
          ]
        },
        {
          "output_type": "stream",
          "name": "stdout",
          "text": [
            "INFO:tensorflow:Saving 'checkpoint_path' summary for global step 3394: ./checkpoints/model.ckpt-3394\n"
          ]
        },
        {
          "output_type": "stream",
          "name": "stderr",
          "text": [
            "INFO:tensorflow:Saving 'checkpoint_path' summary for global step 3394: ./checkpoints/model.ckpt-3394\n"
          ]
        },
        {
          "output_type": "stream",
          "name": "stdout",
          "text": [
            "INFO:tensorflow:evaluation_loop marked as finished\n"
          ]
        },
        {
          "output_type": "stream",
          "name": "stderr",
          "text": [
            "INFO:tensorflow:evaluation_loop marked as finished\n"
          ]
        },
        {
          "output_type": "stream",
          "name": "stdout",
          "text": [
            "WARNING:tensorflow:From /usr/local/lib/python3.7/dist-packages/tensorflow_hub/saved_model_lib.py:111: build_tensor_info (from tensorflow.python.saved_model.utils_impl) is deprecated and will be removed in a future version.\n",
            "Instructions for updating:\n",
            "This function will only be available through the v1 compatibility library as tf.compat.v1.saved_model.utils.build_tensor_info or tf.compat.v1.saved_model.build_tensor_info.\n"
          ]
        },
        {
          "output_type": "stream",
          "name": "stderr",
          "text": [
            "WARNING:tensorflow:From /usr/local/lib/python3.7/dist-packages/tensorflow_hub/saved_model_lib.py:111: build_tensor_info (from tensorflow.python.saved_model.utils_impl) is deprecated and will be removed in a future version.\n",
            "Instructions for updating:\n",
            "This function will only be available through the v1 compatibility library as tf.compat.v1.saved_model.utils.build_tensor_info or tf.compat.v1.saved_model.build_tensor_info.\n"
          ]
        },
        {
          "output_type": "stream",
          "name": "stdout",
          "text": [
            "WARNING:tensorflow:From /usr/local/lib/python3.7/dist-packages/keras/layers/normalization/batch_normalization.py:532: _colocate_with (from tensorflow.python.framework.ops) is deprecated and will be removed in a future version.\n",
            "Instructions for updating:\n",
            "Colocations handled automatically by placer.\n"
          ]
        },
        {
          "output_type": "stream",
          "name": "stderr",
          "text": [
            "WARNING:tensorflow:From /usr/local/lib/python3.7/dist-packages/keras/layers/normalization/batch_normalization.py:532: _colocate_with (from tensorflow.python.framework.ops) is deprecated and will be removed in a future version.\n",
            "Instructions for updating:\n",
            "Colocations handled automatically by placer.\n"
          ]
        }
      ]
    },
    {
      "cell_type": "code",
      "metadata": {
        "id": "JBVrfaMkAZSL"
      },
      "source": [
        "# Check fine tuning performance\n",
        "%tensorboard --logdir=./checkpoint"
      ],
      "execution_count": null,
      "outputs": []
    }
  ]
}